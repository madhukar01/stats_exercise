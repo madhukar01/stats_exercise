{
 "cells": [
  {
   "cell_type": "code",
   "execution_count": null,
   "metadata": {},
   "outputs": [],
   "source": [
    "# All imports are here\n",
    "%matplotlib inline\n",
    "import numpy as np\n",
    "from scipy.stats import cauchy\n",
    "from scipy.stats import norm\n",
    "import matplotlib.pyplot as plt\n",
    "from typing import Dict, Tuple"
   ]
  },
  {
   "cell_type": "markdown",
   "metadata": {},
   "source": [
    "### 1.a"
   ]
  },
  {
   "cell_type": "code",
   "execution_count": null,
   "metadata": {},
   "outputs": [],
   "source": [
    "# create a sample data of thousand points\n",
    "sample_data = np.linspace(-10, 10, 1000)\n",
    "\n",
    "# generate a PDFs\n",
    "# normal distribution with mean = 0 and variance = 1\n",
    "pdf1 = norm.pdf(sample_data, 0, np.sqrt(1))\n",
    "plt.plot(sample_data, pdf1, label='Normal(0, 1)', ls=\"--\")\n",
    "\n",
    "# normal distribution with mean = 3 and variance = 5\n",
    "pdf2 = norm.pdf(sample_data, 3, np.sqrt(5))\n",
    "plt.plot(sample_data, pdf2, label='Normal(3, 5)', ls=\"--\")\n",
    "\n",
    "# cauchy distribution with location = -2 and scale = 2\n",
    "pdf3 = cauchy.pdf(sample_data, -2, 2)\n",
    "plt.plot(sample_data, pdf3, label='Cauchy(-2, 2)', ls=\"--\")\n",
    "\n",
    "\n",
    "plt.xlabel(\"X\")\n",
    "plt.ylabel(\"PDF\")\n",
    "plt.legend(loc='upper right')\n",
    "plt.show()"
   ]
  },
  {
   "cell_type": "markdown",
   "metadata": {},
   "source": [
    "### 1.b"
   ]
  },
  {
   "cell_type": "code",
   "execution_count": null,
   "metadata": {},
   "outputs": [],
   "source": [
    "# Question 1.b\n",
    "def normal_qq_plot(data: np.array):\n",
    "    \"\"\"\n",
    "    This function plots a normal QQ plot of the given data\n",
    "    :param data: 1D numpy array of data\n",
    "    :return: None\n",
    "    \"\"\"\n",
    "    # sort the data\n",
    "    sorted_data = np.sort(data)\n",
    "\n",
    "    # normalize the data\n",
    "    sorted_data = (sorted_data - np.mean(sorted_data)) / np.std(sorted_data)\n",
    "\n",
    "    # calculate the quantiles\n",
    "    quantiles = np.arange(1, len(data) + 1) / len(data)\n",
    "\n",
    "    # calculate the z values from normal distribution for these quantiles\n",
    "    theoretical_quantiles = norm.ppf(quantiles)\n",
    "\n",
    "    # plot the quantiles of the sample against the quantiles of the normal distribution\n",
    "    fig = plt.figure()\n",
    "    plt.plot(theoretical_quantiles, theoretical_quantiles, label=\"Normal distribution\", color=\"red\")\n",
    "\n",
    "    plt.scatter(theoretical_quantiles, sorted_data, label=\"Sample data\")\n",
    "    plt.xlabel(\"Theoretical Quantiles\")\n",
    "    plt.ylabel(\"Sample Quantiles\")\n",
    "    plt.legend(loc='upper left')\n",
    "    plt.title(\"Normal QQ Plot\")"
   ]
  },
  {
   "cell_type": "markdown",
   "metadata": {},
   "source": [
    "### 1.c"
   ]
  },
  {
   "cell_type": "code",
   "execution_count": null,
   "metadata": {},
   "outputs": [],
   "source": [
    "# Question 1.c\n",
    "# draw 100 samples from normal distribution\n",
    "data = np.random.normal(loc=0, scale=1, size=100)\n",
    "normal_qq_plot(data)"
   ]
  },
  {
   "cell_type": "markdown",
   "metadata": {},
   "source": [
    "### 1.d"
   ]
  },
  {
   "cell_type": "code",
   "execution_count": null,
   "metadata": {},
   "outputs": [],
   "source": [
    "# Question 1.d\n",
    "# draw 100 samples from normal distribution\n",
    "data = np.random.normal(loc=3, scale=5, size=100)\n",
    "normal_qq_plot(data)"
   ]
  },
  {
   "cell_type": "markdown",
   "metadata": {},
   "source": [
    "### 1.e"
   ]
  },
  {
   "cell_type": "code",
   "execution_count": null,
   "metadata": {},
   "outputs": [],
   "source": [
    "# Question 1.e\n",
    "# draw 100 samples from cauchy distribution\n",
    "data = cauchy.rvs(loc=-2, scale=2, size=100)\n",
    "normal_qq_plot(data)"
   ]
  },
  {
   "cell_type": "markdown",
   "metadata": {},
   "source": [
    "### 3"
   ]
  },
  {
   "cell_type": "code",
   "execution_count": null,
   "metadata": {},
   "outputs": [],
   "source": [
    "# Question 3\n",
    "def linear_regression_least_squared(x: np.array, y:np.array) -> Dict[str, float]:\n",
    "  \"\"\"\n",
    "  This function calculates the linear regression of the given data\n",
    "  :param x: 1D numpy array of data\n",
    "  :param y: 1D numpy array of data\n",
    "  :return: dictionary of the linear regression parameters\n",
    "  \"\"\"\n",
    "  # least squared estimate of the slope\n",
    "  slope = np.sum((x - np.mean(x))*y) / np.sum((x - np.mean(x)) ** 2)\n",
    "\n",
    "  # least squared estimate of intercept\n",
    "  intercept = np.mean(y) - slope * np.mean(x)\n",
    "\n",
    "  # predicted data\n",
    "  predicted = intercept + np.multiply(x, slope)\n",
    "\n",
    "  degrees_of_freedom = len(y) - 2\n",
    "\n",
    "  # mean squared error of residuals\n",
    "  residual = np.sum((y - predicted) ** 2)\n",
    "  mean_squared_error = residual / degrees_of_freedom\n",
    "\n",
    "  # null hypothesis: slope = 0\n",
    "  t_statistic = slope / np.sqrt(mean_squared_error / np.sqrt(np.sum((x - np.mean(x)) ** 2)))\n",
    "\n",
    "  # p-value\n",
    "  p_value = 2 * (1 - norm.cdf(np.abs(t_statistic)))\n",
    "\n",
    "  return {\n",
    "    \"slope\": slope,\n",
    "    \"intercept\": intercept,\n",
    "    \"mean_squared_error\": mean_squared_error,\n",
    "    \"degrees_of_freedom\": degrees_of_freedom,\n",
    "    \"t_statistic\": t_statistic, \n",
    "    \"p_value\": p_value\n",
    "    }"
   ]
  },
  {
   "cell_type": "markdown",
   "metadata": {},
   "source": [
    "### 4.a"
   ]
  },
  {
   "cell_type": "code",
   "execution_count": null,
   "metadata": {},
   "outputs": [],
   "source": [
    "# Question 4\n",
    "def simulate_data(beta_zero:float, beta_one:float, size:int=10) -> Tuple:\n",
    "    \"\"\"\n",
    "    Simulated 2 datasets with the given parameters\n",
    "    :param beta_zero: intercept\n",
    "    :param beta_one: slope\n",
    "    :param size: size of the dataset\n",
    "    :return: 2 datasets\n",
    "    \"\"\"\n",
    "    # generate numbers between -10 and 10\n",
    "    x = np.linspace(-10, 10, size)\n",
    "\n",
    "    # generate error term using normal distribution\n",
    "    np.random.seed(1234)\n",
    "    error_one = np.random.normal(loc=0, scale=1, size=size)\n",
    "    error_two = np.random.normal(loc=0, scale=1, size=size)\n",
    "\n",
    "    # generate data points\n",
    "    y1 = beta_zero + beta_one * x + error_one\n",
    "    y2 = beta_zero + beta_one * x + error_two\n",
    "    return ((x, y1), (x, y2))"
   ]
  },
  {
   "cell_type": "code",
   "execution_count": null,
   "metadata": {},
   "outputs": [],
   "source": [
    "# Question 4.a\n",
    "dataset_one, dataset_two = simulate_data(5, 3, 10)\n",
    "\n",
    "# plot the data\n",
    "plt.scatter(dataset_one[0], dataset_one[1], label=\"Dataset 1\")\n",
    "plt.scatter(dataset_two[0], dataset_two[1], label=\"Dataset 2\")\n",
    "plt.xlabel(\"X\")\n",
    "plt.ylabel(\"Y\")\n",
    "plt.legend(loc='upper left')\n",
    "plt.show()"
   ]
  },
  {
   "cell_type": "markdown",
   "metadata": {},
   "source": [
    "### 4.b"
   ]
  },
  {
   "cell_type": "code",
   "execution_count": null,
   "metadata": {},
   "outputs": [],
   "source": [
    "# Question 4.b\n",
    "dataset_one, dataset_two = simulate_data(beta_zero=5, beta_one=3, size=10)\n",
    "\n",
    "print(\"Dataset 1: \")\n",
    "print(linear_regression_least_squared(x=dataset_one[0], y=dataset_one[1]))\n",
    "print()\n",
    "print(\"Dataset 2: \")\n",
    "print(linear_regression_least_squared(x=dataset_two[0], y=dataset_two[1]))"
   ]
  },
  {
   "cell_type": "markdown",
   "metadata": {},
   "source": [
    "### 5.b"
   ]
  },
  {
   "cell_type": "code",
   "execution_count": null,
   "metadata": {},
   "outputs": [],
   "source": [
    "def generate_data_normal_error(\n",
    "        x: Tuple, \n",
    "        beta_zero:float, \n",
    "        beta_one:float, \n",
    "        error_loc:float, \n",
    "        error_scale:float, \n",
    "        size:int=10) -> Tuple:\n",
    "    \"\"\"\n",
    "    Generate dataset with the given parameters\n",
    "    The error term is generated from normal distribution\n",
    "    :param x: a tuple of values X can take\n",
    "    :param beta_zero: intercept\n",
    "    :param beta_one: slope\n",
    "    :param error_loc: loc parameter for error distribution\n",
    "    :param error_scale: scale parameter for error distribution\n",
    "    :param size: size of the dataset\n",
    "    :return: dataset\n",
    "    \"\"\"\n",
    "    # generate X from the given values randomly\n",
    "    sample = np.random.choice(x, size=size, replace=True)\n",
    "\n",
    "    # reject the cases where all x values are same\n",
    "    while len(set(sample)) == 1:\n",
    "        sample = np.random.choice(x, size=size, replace=True)\n",
    "\n",
    "    # generate error term using normal distribution\n",
    "    error = np.random.normal(loc=error_loc, scale=error_scale, size=size)\n",
    "\n",
    "    y = beta_zero + beta_one * sample + error\n",
    "    return (sample, y)"
   ]
  },
  {
   "cell_type": "code",
   "execution_count": null,
   "metadata": {},
   "outputs": [],
   "source": [
    "def plot_sampling_distribution_normal_error(\n",
    "        x: Tuple,\n",
    "        beta_zero:float, \n",
    "        beta_one:float, \n",
    "        error_loc:float, \n",
    "        error_scale:float, \n",
    "        size:int=10, \n",
    "        samples:int=1000):\n",
    "    \"\"\"\n",
    "    Plot the sampling distribution of the given data using normal error distribution\n",
    "    :param x: a tuple of values X can take\n",
    "    :param beta_zero: intercept\n",
    "    :param beta_one: slope\n",
    "    :param error_loc: loc parameter for error distribution\n",
    "    :param error_scale: scale parameter for error distribution\n",
    "    :param size: size of the dataset\n",
    "    :param samples: number of datasets to generate\n",
    "    :return: None\n",
    "    \"\"\"\n",
    "    # generate 1000 datasets\n",
    "    datasets = [\n",
    "        generate_data_normal_error(\n",
    "            x=x, \n",
    "            beta_zero=beta_zero,\n",
    "            beta_one=beta_one,\n",
    "            error_loc=error_loc,\n",
    "            error_scale=error_scale,\n",
    "            size=size) \n",
    "            for _ in range(samples)]\n",
    "\n",
    "    # calculate the slope for each dataset\n",
    "    slopes = [\n",
    "        linear_regression_least_squared(x=data[0], y=data[1])[\"slope\"] \n",
    "        for data in datasets]\n",
    "\n",
    "    # plot the histogram\n",
    "    plt.hist(slopes, bins=30,  label=\"Observed value\")\n",
    "    plt.axvline(x=beta_one, color=\"red\", label=\"True value\")\n",
    "    plt.xlabel(\"Slope\")\n",
    "    plt.ylabel(\"Frequency\")\n",
    "    plt.legend(loc='upper left')\n",
    "    plt.title(f\"Sampling Distribution of Slope for n={size}\")\n",
    "    plt.show()"
   ]
  },
  {
   "cell_type": "markdown",
   "metadata": {},
   "source": [
    "#### Sampling distribution for n = 3 and error scale = 1"
   ]
  },
  {
   "cell_type": "code",
   "execution_count": null,
   "metadata": {},
   "outputs": [],
   "source": [
    "plot_sampling_distribution_normal_error(\n",
    "    x=(0, 2),\n",
    "    beta_zero=5,\n",
    "    beta_one=3,\n",
    "    error_loc=0,\n",
    "    error_scale=1,\n",
    "    size=3,\n",
    "    samples=1000)"
   ]
  },
  {
   "cell_type": "markdown",
   "metadata": {},
   "source": [
    "#### Sampling distribution for n = 100 and error scale = 1"
   ]
  },
  {
   "cell_type": "code",
   "execution_count": null,
   "metadata": {},
   "outputs": [],
   "source": [
    "plot_sampling_distribution_normal_error(\n",
    "    x=(0, 2),\n",
    "    beta_zero=5,\n",
    "    beta_one=3,\n",
    "    error_loc=0,\n",
    "    error_scale=1,\n",
    "    size=100,\n",
    "    samples=1000)"
   ]
  },
  {
   "cell_type": "markdown",
   "metadata": {},
   "source": [
    "### 5.c\n",
    "#### Sampling distribution for n = 3 and error scale = 100"
   ]
  },
  {
   "cell_type": "code",
   "execution_count": null,
   "metadata": {},
   "outputs": [],
   "source": [
    "plot_sampling_distribution_normal_error(\n",
    "    x=(0, 2),\n",
    "    beta_zero=5,\n",
    "    beta_one=3,\n",
    "    error_loc=0,\n",
    "    error_scale=100,\n",
    "    size=3,\n",
    "    samples=1000)"
   ]
  },
  {
   "cell_type": "markdown",
   "metadata": {},
   "source": [
    "#### Sampling distribution for n = 100 and error scale = 100"
   ]
  },
  {
   "cell_type": "code",
   "execution_count": null,
   "metadata": {},
   "outputs": [],
   "source": [
    "plot_sampling_distribution_normal_error(\n",
    "    x=(0, 2),\n",
    "    beta_zero=5,\n",
    "    beta_one=3,\n",
    "    error_loc=0,\n",
    "    error_scale=1,\n",
    "    size=100,\n",
    "    samples=1000)"
   ]
  },
  {
   "cell_type": "markdown",
   "metadata": {},
   "source": [
    "### 5.d"
   ]
  },
  {
   "cell_type": "code",
   "execution_count": 118,
   "metadata": {},
   "outputs": [],
   "source": [
    "def generate_data_chi_squared_error(\n",
    "        x: Tuple, \n",
    "        beta_zero:float, \n",
    "        beta_one:float, \n",
    "        dof:int,\n",
    "        size:int=10) -> Tuple:\n",
    "    \"\"\"\n",
    "    Generate dataset with the given parameters\n",
    "    The error term is generated from chi squared distribution\n",
    "    :param x: a tuple of values X can take\n",
    "    :param beta_zero: intercept\n",
    "    :param beta_one: slope\n",
    "    :param dof: degrees of freedom for chi squared distribution\n",
    "    :param size: size of the dataset\n",
    "    :return: dataset\n",
    "    \"\"\"\n",
    "    # generate X from the given values randomly\n",
    "    sample = np.random.choice(x, size=size, replace=True)\n",
    "\n",
    "    # reject the cases where all x values are same\n",
    "    while len(set(sample)) == 1:\n",
    "        sample = np.random.choice(x, size=size, replace=True)\n",
    "\n",
    "    # generate error term using chi squared distribution\n",
    "    error = np.random.chisquare(df=dof, size=size)\n",
    "\n",
    "    y = beta_zero + beta_one * sample + error\n",
    "    return (sample, y)"
   ]
  },
  {
   "cell_type": "code",
   "execution_count": 119,
   "metadata": {},
   "outputs": [],
   "source": [
    "def plot_sampling_distribution_chi_squared_error(\n",
    "        x: Tuple,\n",
    "        beta_zero:float, \n",
    "        beta_one:float, \n",
    "        dof: int,\n",
    "        size:int=10, \n",
    "        samples:int=1000):\n",
    "    \"\"\"\n",
    "    Plot the sampling distribution of the given data using normal error distribution\n",
    "    :param x: a tuple of values X can take\n",
    "    :param beta_zero: intercept\n",
    "    :param beta_one: slope\n",
    "    :param dof: degrees of freedom for chi squared distribution\n",
    "    :param size: size of the dataset\n",
    "    :param samples: number of datasets to generate\n",
    "    :return: None\n",
    "    \"\"\"\n",
    "    # generate 1000 datasets\n",
    "    datasets = [\n",
    "        generate_data_chi_squared_error(\n",
    "            x=x, \n",
    "            beta_zero=beta_zero,\n",
    "            beta_one=beta_one,\n",
    "            dof=dof,\n",
    "            size=size) \n",
    "            for _ in range(samples)]\n",
    "\n",
    "    # calculate the slope for each dataset\n",
    "    slopes = [\n",
    "        linear_regression_least_squared(x=data[0], y=data[1])[\"slope\"] \n",
    "        for data in datasets]\n",
    "\n",
    "    # plot the histogram\n",
    "    plt.hist(slopes, bins=30,  label=\"Observed value\")\n",
    "    plt.axvline(x=beta_one, color=\"red\", label=\"True value\")\n",
    "    plt.xlabel(\"Slope\")\n",
    "    plt.ylabel(\"Frequency\")\n",
    "    plt.legend(loc='upper left')\n",
    "    plt.title(f\"Sampling Distribution of Slope for n={size}\")\n",
    "    plt.show()"
   ]
  },
  {
   "cell_type": "markdown",
   "metadata": {},
   "source": [
    "#### Sampling distribution for n = 3 with Chi Squared distribution, DOF = 10"
   ]
  },
  {
   "cell_type": "code",
   "execution_count": 123,
   "metadata": {},
   "outputs": [
    {
     "data": {
      "image/png": "[encoded data removed]",
      "text/plain": [
       "<Figure size 640x480 with 1 Axes>"
      ]
     },
     "metadata": {},
     "output_type": "display_data"
    }
   ],
   "source": [
    "plot_sampling_distribution_chi_squared_error(\n",
    "    x=(0, 2),\n",
    "    beta_zero=5,\n",
    "    beta_one=3,\n",
    "    dof=10,\n",
    "    size=3,\n",
    "    samples=1000)"
   ]
  },
  {
   "cell_type": "markdown",
   "metadata": {},
   "source": [
    "#### Sampling distribution for n = 100 with Chi Squared distribution, DOF = 10"
   ]
  },
  {
   "cell_type": "code",
   "execution_count": 124,
   "metadata": {},
   "outputs": [
    {
     "data": {
      "image/png": "[encoded data removed]",
      "text/plain": [
       "<Figure size 640x480 with 1 Axes>"
      ]
     },
     "metadata": {},
     "output_type": "display_data"
    }
   ],
   "source": [
    "plot_sampling_distribution_chi_squared_error(\n",
    "    x=(0, 2),\n",
    "    beta_zero=5,\n",
    "    beta_one=3,\n",
    "    dof=10,\n",
    "    size=100,\n",
    "    samples=1000)"
   ]
  }
 ],
 "metadata": {
  "kernelspec": {
   "display_name": "Python 3",
   "language": "python",
   "name": "python3"
  },
  "language_info": {
   "codemirror_mode": {
    "name": "ipython",
    "version": 3
   },
   "file_extension": ".py",
   "mimetype": "text/x-python",
   "name": "python",
   "nbconvert_exporter": "python",
   "pygments_lexer": "ipython3",
   "version": "3.10.11"
  },
  "orig_nbformat": 4
 },
 "nbformat": 4,
 "nbformat_minor": 2
}
