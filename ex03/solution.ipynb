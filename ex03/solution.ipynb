{
 "cells": [
  {
   "cell_type": "markdown",
   "metadata": {},
   "source": [
    "### Question 1\n",
    "#### 1.a\n",
    "$Y_{ijk} = \\mu_{ij} + \\epsilon_{ijk}$\n",
    "\n",
    "Where:\n",
    "- $ Y_{ijk} $ is the response variable for the $ i $-th level of factor A, the $ j $-th level of factor B, and the $ k $-th replicate.\n",
    "- $ \\mu_{ij} $ is the mean effect for the combination of the $ i $-th level of factor A and the $ j $-th level of factor B.\n",
    "- $ \\epsilon_{ijk} $ is the random error associated with the $ i $-th level of factor A, the $ j $-th level of factor B, and the $ k $-th replicate\n",
    "\n",
    "**Assumptions:**\n",
    "1. Independence: The observations are independent of each other. This means the data collected for one cell does not influence the data collected for another.\n",
    "2. Normality: The random errors $ \\epsilon_{ijk} $ are normally distributed.\n",
    "3. Homoscedasticity: The variances of the error terms are constant across all levels of the factors.\n",
    "4. Fixed Effects: In this model, both factors are considered to have fixed effects. This means that the levels of each factor are specifically chosen by the experimenter and are of primary interest.\n",
    "5. No Interactions (in the basic model): This assumption means that the effect of one factor is consistent at all levels of the other factor."
   ]
  },
  {
   "cell_type": "markdown",
   "metadata": {},
   "source": [
    "#### 1.b\n",
    "\n",
    "**ANOVA Table:**\n",
    "| Source      | Sum of Squares (SS)                   | Degrees of Freedom (df) |\n",
    "|-------------|--------------------------------------|--------------------------|\n",
    "| Model       | $n.\\Sigma\\Sigma(\\bar{Y}_{ij.} - \\bar{Y}_{...})^2$   | ab - 1    |\n",
    "| Error       | $\\Sigma\\Sigma\\Sigma(Y_{ijk} - \\bar{Y}_{ij.})^2$     | ab(n - 1) |\n",
    "| Total       | $\\Sigma\\Sigma\\Sigma(Y_{ijk} - \\bar{Y}_{...})^2$     | abn - 1   |\n",
    "\n",
    "Where:\n",
    "- $ Y_{ijk} $ is the observation for the $ i $-th level of factor A, the $ j $-th level of factor B, and the $ k $-th replicate.\n",
    "- $ \\bar{Y}_{ij.} $ is the mean for the $ i $-th level of factor A and the $ j $-th level of factor B.\n",
    "- $ \\bar{Y}_{...} $ is the overall mean of all observations.\n",
    "- $ a $ and $ b $ are the number of levels in Factor A and Factor B, respectively.\n",
    "- $ n $ is the number of replicates per cell (in your case, n = 2).\n",
    "\n",
    "**Null Hypothesis to be tested with this table:**\n",
    "- The null hypothesis is that all cell means are equal, i.e., there are no effects of the factors or their interaction on the dependent variable.\n",
    "$ H_0: \\mu_{ij} = \\mu $ for all $ i $ and $ j $."
   ]
  },
  {
   "cell_type": "markdown",
   "metadata": {},
   "source": [
    "#### 1.c\n",
    "The model can be expressed in matrix form as:  $ Y = X\\mu + \\epsilon $\n",
    "1. **Vector Y (Response Vector)**:\n",
    "   - Y is an 18x1 vector, representing the observations. \n",
    "   - $ Y = [Y_{111}, Y_{112}, Y_{121}, Y_{122}, ..., Y_{331}, Y_{332}]^T$.\n",
    "   - Each observation is $ Y_{ijk}$, where $ i$ and $ j$ represent the levels of factors A and B respectively, and $ k$ is the replicate number.\n",
    "\n",
    "2. **Design Matrix X**:\n",
    "   - X is an 18x9 matrix.\n",
    "   - Each row corresponds to an observation, and each column corresponds to one of the nine cell means.\n",
    "   - Each cell in the matrix is either 0 or 1, indicating whether the observation belongs to the cell mean represented by that column. \n",
    "   - There will be one '1' in the column corresponding to the appropriate cell mean, and '0's elsewhere.\n",
    "\n",
    "3. **Vector of Parameters μ (Mean Effects Vector)**:\n",
    "   - $\\mu$ is a 9x1 vector, representing the mean effect for each of the nine combinations of factor levels.\n",
    "   - $ \\mu = [\\mu_{11}, \\mu_{12}, \\mu_{13}, ..., \\mu_{31}, \\mu_{32}, \\mu_{33}]^T$.\n",
    "   - Each mean is $ \\mu_{ij}$, where $ i$ and $ j$ are the levels of factors A and B.\n",
    "\n",
    "4. **Vector of Errors ε (Error Vector)**:\n",
    "   - ε is an 18x1 vector, representing the error associated with each observation.\n",
    "   - It follows the same ordering as Y."
   ]
  },
  {
   "cell_type": "markdown",
   "metadata": {},
   "source": [
    "#### 1.d\n",
    "To write the vector of coefficients $ C $ for the linear regression contrast $ L = \\mu_{12} - \\mu_{13} $, we need to represent this in terms of the parameter vector $ \\mu $. \n",
    "\n",
    "$$ \\mu = [\\mu_{11}, \\mu_{12}, \\mu_{13}, \\mu_{21}, \\mu_{22}, \\mu_{23}, \\mu_{31}, \\mu_{32}, \\mu_{33}]^T $$\n",
    "\n",
    "$ L = \\mu_{12} - \\mu_{13} $ focuses on the difference between the mean effects for the second and third level of factor A while holding factor B at its first level. This can be expressed as a linear combination of the elements of $ \\mu $:\n",
    "$$ L = 0 \\cdot \\mu_{11} + 1 \\cdot \\mu_{12} - 1 \\cdot \\mu_{13} + 0 \\cdot \\mu_{21} + 0 \\cdot \\mu_{22} + 0 \\cdot \\mu_{23} + 0 \\cdot \\mu_{31} + 0 \\cdot \\mu_{32} + 0 \\cdot \\mu_{33} $$\n",
    "\n",
    "The vector of coefficients $ C $ in the linear regression model is:\n",
    "$$ C = [0, 1, -1, 0, 0, 0, 0, 0, 0]^T $$"
   ]
  },
  {
   "cell_type": "markdown",
   "metadata": {},
   "source": [
    "#### 1.e\n",
    "The two-way factorial effects model with zero-sum constraints:\n",
    "\n",
    "$$ Y_{ijk} = \\mu + \\alpha_i + \\beta_j + (\\alpha\\beta)_{ij} + \\epsilon_{ijk} $$\n",
    "\n",
    "Where:\n",
    "- $ Y_{ijk} $ is the response for the $ i $-th level of factor A, the $ j $-th level of factor B, and the $ k $-th replicate.\n",
    "- $ \\mu $ is the overall mean response.\n",
    "- $ \\alpha_i $ is the effect of the $ i $-th level of factor A.\n",
    "- $ \\beta_j $ is the effect of the $ j $-th level of factor B.\n",
    "- $ (\\alpha\\beta)_{ij} $ is the interaction effect between the $ i $-th level of factor A and the $ j $-th level of factor B.\n",
    "- $ \\epsilon_{ijk} $ is the random error.\n",
    "\n",
    "**Assumptions:**\n",
    "1. Independence: Observations are independent of each other.\n",
    "2. Normality: The error terms $ \\epsilon_{ijk} $ are normally distributed with a mean of 0.\n",
    "3. Homoscedasticity: The error terms have constant variance $ \\sigma^2 $ across all levels of the factors.\n",
    "4. Fixed Effects: Both factors are treated as fixed effects.\n",
    "\n",
    "**Distributional Assumptions:**\n",
    "- $ \\epsilon_{ijk} \\sim N(0, \\sigma^2) $: The errors are normally distributed with mean 0 and variance $ \\sigma^2 $.\n",
    "\n",
    "**Zero-Sum Constraints:**\n",
    "To ensure identifiability of the model, zero-sum constraints are imposed on the factor levels and their interactions:\n",
    "\n",
    "- $ \\sum_{i=1}^{a} \\alpha_i = 0 $: The sum of the effects of all levels of factor A is zero.\n",
    "- $ \\sum_{j=1}^{b} \\beta_j = 0 $: The sum of the effects of all levels of factor B is zero.\n",
    "- $ \\sum_{i=1}^{a} (\\alpha\\beta)_{ij} = 0 $ for each j: The sum of the interaction effects for each level of factor B is zero.\n",
    "- $ \\sum_{j=1}^{b} (\\alpha\\beta)_{ij} = 0 $ for each i: The sum of the interaction effects for each level of factor A is zero."
   ]
  },
  {
   "cell_type": "markdown",
   "metadata": {},
   "source": [
    "#### 1.f\n",
    "\n",
    "\n",
    "| Source          | Sum of Squares (SS)                                                         | Degrees of Freedom (df) |\n",
    "|-----------------|-------------------------------------------------------------------------------------|-----------------|\n",
    "| Factor A        | $SSA = \\Sigma\\Sigma\\Sigma(\\alpha_i)^2/bn$                                           |  a - 1          |\n",
    "| Factor B        | $SSB = \\Sigma\\Sigma\\Sigma(\\beta_j)^2/an$                                            |  b - 1          |\n",
    "| Interaction AxB | $SSAB = \\Sigma\\Sigma\\Sigma(\\alpha\\beta_{ij})^2 / n $                                | (a - 1)(b - 1)  |\n",
    "| Error           | $SSE = \\Sigma\\Sigma\\Sigma(Y_{ijk} - \\mu - \\alpha_i - \\beta_j - \\alpha\\beta_{ij})^2$ | ab(n - 1)       |\n",
    "| Total           | $SSTO = \\Sigma\\Sigma\\Sigma(Y_{ijk} - Y_{...})^2$                                    | abn - 1         |\n",
    "\n",
    "Where:\n",
    "- $ Y_{ijk} $ is the observation for the $ i $-th level of Factor A, $ j $-th level of Factor B, and $ k $-th replicate.\n",
    "- $ α_i $, $ β_j $, and $ αβ_{ij} $ are the effects of Factor A, Factor B, and their interaction, respectively.\n",
    "- $ a $ and $ b $ are the number of levels in Factor A and Factor B, respectively.\n",
    "- $ n $ is the number of replicates per cell.\n",
    "\n",
    "**Null Hypotheses to be tested with this table:**\n",
    "1. **For Factor A**: $ H_{0A}: $ All levels of Factor A have the same effect, i.e., $ α_1 = α_2 = ... = α_a = 0 $.\n",
    "2. **For Factor B**: $ H_{0B}: $ All levels of Factor B have the same effect, i.e., $ β_1 = β_2 = ... = β_b = 0 $.\n",
    "3. **For Interaction AxB**: $ H_{0AB}: $ There is no interaction between Factors A and B, i.e., all $ αβ_{ij} = 0 $ for each combination of $ i $ and $ j $."
   ]
  }
 ],
 "metadata": {
  "language_info": {
   "name": "python"
  }
 },
 "nbformat": 4,
 "nbformat_minor": 2
}
