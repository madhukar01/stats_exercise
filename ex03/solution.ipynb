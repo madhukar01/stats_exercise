{
 "cells": [
  {
   "cell_type": "code",
   "execution_count": 1,
   "metadata": {},
   "outputs": [],
   "source": [
    "import numpy as np\n",
    "import scipy.stats as stats\n",
    "import matplotlib.pyplot as plt\n",
    "import statsmodels.api as sm\n",
    "from statsmodels.formula.api import ols\n",
    "import statsmodels.stats.multicomp as multi\n",
    "import pandas as pd"
   ]
  },
  {
   "cell_type": "markdown",
   "metadata": {},
   "source": [
    "### Question 1\n",
    "#### 1.a\n",
    "$Y_{ijk} = \\mu_{ij} + \\epsilon_{ijk}$\n",
    "\n",
    "Where:\n",
    "- $ Y_{ijk} $ is the response variable for the $ i $-th level of factor A, the $ j $-th level of factor B, and the $ k $-th replicate.\n",
    "- $ \\mu_{ij} $ is the mean effect for the combination of the $ i $-th level of factor A and the $ j $-th level of factor B.\n",
    "- $ \\epsilon_{ijk} $ is the random error associated with the $ i $-th level of factor A, the $ j $-th level of factor B, and the $ k $-th replicate\n",
    "\n",
    "**Assumptions:**\n",
    "1. Independence: The observations are independent of each other. This means the data collected for one cell does not influence the data collected for another.\n",
    "2. Normality: The random errors $ \\epsilon_{ijk} $ are normally distributed.\n",
    "3. Homoscedasticity: The error terms $ \\epsilon_{ijk} $ have constant variance, denoted as $ \\sigma^2 $.\n",
    "4. Random Sampling: The samples for each group (combination of factor levels) are randomly selected and are representative of the populations."
   ]
  },
  {
   "cell_type": "markdown",
   "metadata": {},
   "source": [
    "#### 1.b\n",
    "\n",
    "a = 3, b = 3, n = 2\n",
    "\n",
    "**ANOVA Table:**\n",
    "| Source      | Sum of Squares (SS)                   | Degrees of Freedom (df)     |\n",
    "|-------------|--------------------------------------|------------------------------|\n",
    "| Model       | $2.\\Sigma\\Sigma(\\bar{Y}_{ij.} - \\bar{Y}_{...})^2$   | ab - 1 = 8    |\n",
    "| Error       | $\\Sigma\\Sigma\\Sigma(Y_{ijk} - \\bar{Y}_{ij.})^2$     | ab(n - 1) = 9 |\n",
    "| Total       | $\\Sigma\\Sigma\\Sigma(Y_{ijk} - \\bar{Y}_{...})^2$     | abn - 1 = 17  |\n",
    "\n",
    "Where:\n",
    "- $ Y_{ijk} $ is the observation for the $ i $-th level of factor A, the $ j $-th level of factor B, and the $ k $-th replicate.\n",
    "- $ \\bar{Y}_{ij.} $ is the mean for the $ i $-th level of factor A and the $ j $-th level of factor B.\n",
    "- $ \\bar{Y}_{...} $ is the overall mean of all observations.\n",
    "- $ a $ and $ b $ are the number of levels in Factor A and Factor B, respectively.\n",
    "- $ n $ is the number of replicates per cell.\n",
    "\n",
    "**Null Hypothesis to be tested with this table:**\n",
    "- All cell means are equal, i.e., there are no effects of the factors or their interaction on the dependent variable.\n",
    "$ H_0: \\mu_{ij} = \\mu $ for all $ i $ and $ j $."
   ]
  },
  {
   "cell_type": "markdown",
   "metadata": {},
   "source": [
    "#### 1.c\n",
    "The model can be expressed in matrix form as:  $ Y = X\\mu + \\epsilon $\n",
    "1. **Vector Y (Response Vector)**:\n",
    "   - Y is an 18x1 vector, representing the observations. \n",
    "   $$ Y = [Y_{111}, Y_{112}, Y_{121}, Y_{122}, Y_{131}, Y_{132}, Y_{211}, Y_{212}, Y_{221}, Y_{222}, Y_{231}, Y_{232}, Y_{311}, Y_{312}, Y_{321}, Y_{322}, Y_{331}, Y_{332}]^T$$\n",
    "\n",
    "\n",
    "2. **Design Matrix X**:\n",
    "   - X is an 18x9 matrix.\n",
    "   $$\n",
    "   X =\n",
    "      \\begin{bmatrix}\n",
    "      1 & 0 & 0 & 0 & 0 & 0 & 0 & 0 & 0 \\\\\n",
    "      1 & 0 & 0 & 0 & 0 & 0 & 0 & 0 & 0 \\\\\n",
    "      0 & 1 & 0 & 0 & 0 & 0 & 0 & 0 & 0 \\\\\n",
    "      0 & 1 & 0 & 0 & 0 & 0 & 0 & 0 & 0 \\\\\n",
    "      0 & 0 & 1 & 0 & 0 & 0 & 0 & 0 & 0 \\\\\n",
    "      0 & 0 & 1 & 0 & 0 & 0 & 0 & 0 & 0 \\\\\n",
    "      0 & 0 & 0 & 1 & 0 & 0 & 0 & 0 & 0 \\\\\n",
    "      0 & 0 & 0 & 1 & 0 & 0 & 0 & 0 & 0 \\\\\n",
    "      0 & 0 & 0 & 0 & 1 & 0 & 0 & 0 & 0 \\\\\n",
    "      0 & 0 & 0 & 0 & 1 & 0 & 0 & 0 & 0 \\\\\n",
    "      0 & 0 & 0 & 0 & 0 & 1 & 0 & 0 & 0 \\\\\n",
    "      0 & 0 & 0 & 0 & 0 & 1 & 0 & 0 & 0 \\\\\n",
    "      0 & 0 & 0 & 0 & 0 & 0 & 1 & 0 & 0 \\\\\n",
    "      0 & 0 & 0 & 0 & 0 & 0 & 1 & 0 & 0 \\\\\n",
    "      0 & 0 & 0 & 0 & 0 & 0 & 0 & 1 & 0 \\\\\n",
    "      0 & 0 & 0 & 0 & 0 & 0 & 0 & 1 & 0 \\\\\n",
    "      0 & 0 & 0 & 0 & 0 & 0 & 0 & 0 & 1 \\\\\n",
    "      0 & 0 & 0 & 0 & 0 & 0 & 0 & 0 & 1 \\\\\n",
    "      \\end{bmatrix}\n",
    "   $$\n",
    "\n",
    "3. **Vector of Parameters μ (Mean Effects Vector)**:\n",
    "   - $\\mu$ is a 9x1 vector, representing the mean effect for each of the nine combinations of factor levels.\n",
    "   $$ \\mu = [\\mu_{11}, \\mu_{12}, \\mu_{13}, \\mu_{21}, \\mu_{22}, \\mu_{23}, \\mu_{31}, \\mu_{32}, \\mu_{33}]^T$$\n",
    "\n",
    "4. **Vector of Errors ε (Error Vector)**:\n",
    "   - ε is an 18x1 vector, representing the error associated with each observation.\n",
    "   $$ \\epsilon = [\\epsilon_{111}, \\epsilon_{112}, \\epsilon_{121}, \\epsilon_{122}, \\epsilon_{131}, \\epsilon_{132}, \\epsilon_{211}, \\epsilon_{212}, \\epsilon_{221}, \\epsilon_{222}, \\epsilon_{231}, \\epsilon_{232}, \\epsilon_{311}, \\epsilon_{312}, \\epsilon_{321}, \\epsilon_{322}, \\epsilon_{331}, \\epsilon_{332}]^T$$"
   ]
  },
  {
   "cell_type": "markdown",
   "metadata": {},
   "source": [
    "#### 1.d\n",
    "To write the vector of coefficients $ C $ for the linear regression contrast $ L = \\mu_{12} - \\mu_{13} $, we need to represent this in terms of the parameter vector $ \\mu $. \n",
    "\n",
    "$$ \\mu = [\\mu_{11}, \\mu_{12}, \\mu_{13}, \\mu_{21}, \\mu_{22}, \\mu_{23}, \\mu_{31}, \\mu_{32}, \\mu_{33}]^T $$\n",
    "\n",
    "$ L = \\mu_{12} - \\mu_{13} $ is difference between the mean effects for the second and third level of factor B while holding factor A at its first level.\n",
    "$$ L = 0 \\cdot \\mu_{11} + 1 \\cdot \\mu_{12} - 1 \\cdot \\mu_{13} + 0 \\cdot \\mu_{21} + 0 \\cdot \\mu_{22} + 0 \\cdot \\mu_{23} + 0 \\cdot \\mu_{31} + 0 \\cdot \\mu_{32} + 0 \\cdot \\mu_{33} $$\n",
    "\n",
    "The vector of coefficients $ C $ in the linear regression model is:\n",
    "$$ C = [0, 1, -1, 0, 0, 0, 0, 0, 0]^T $$"
   ]
  },
  {
   "cell_type": "markdown",
   "metadata": {},
   "source": [
    "#### 1.e\n",
    "The two-way factor effects model with zero-sum constraints:\n",
    "\n",
    "$$ Y_{ijk} = \\mu + \\alpha_i + \\beta_j + (\\alpha\\beta)_{ij} + \\epsilon_{ijk} $$\n",
    "\n",
    "Where:\n",
    "- $ Y_{ijk} $ is the response for the $ i $-th level of factor A, the $ j $-th level of factor B, and the $ k $-th replicate.\n",
    "- $ \\mu $ is the overall mean response.\n",
    "- $ \\alpha_i $ is the effect of the $ i $-th level of factor A.\n",
    "- $ \\beta_j $ is the effect of the $ j $-th level of factor B.\n",
    "- $ (\\alpha\\beta)_{ij} $ is the interaction effect between the $ i $-th level of factor A and the $ j $-th level of factor B.\n",
    "- $ \\epsilon_{ijk} $ is the random error.\n",
    "\n",
    "**Assumptions:**\n",
    "1. Independence: Observations are independent of each other.\n",
    "2. Normality: The error terms $ \\epsilon_{ijk} $ are normally distributed with a mean of 0.\n",
    "3. Homoscedasticity: The error terms have constant variance $ \\sigma^2 $ across all levels of the factors.\n",
    "4. Random Sampling: The samples for each group (combination of factor levels) are randomly selected and are representative of the populations.\n",
    "4. Fixed Effects: Both factors are treated as fixed effects.\n",
    "\n",
    "**Distributional Assumptions:**\n",
    "- $ \\epsilon_{ijk} \\sim N(0, \\sigma^2) $: The errors are normally distributed with mean 0 and variance $ \\sigma^2 $.\n",
    "\n",
    "**Zero-Sum Constraints:**\n",
    "- $ \\sum_{i=1}^{a} \\alpha_i = 0 $: The sum of the effects of all levels of factor A is zero.\n",
    "- $ \\sum_{j=1}^{b} \\beta_j = 0 $: The sum of the effects of all levels of factor B is zero.\n",
    "- For each level j of factor B, $ \\sum_{i=1}^{a} (\\alpha\\beta)_{ij} = 0 $\n",
    "- For each level i of factor A, $ \\sum_{j=1}^{b} (\\alpha\\beta)_{ij} = 0 $"
   ]
  },
  {
   "cell_type": "markdown",
   "metadata": {},
   "source": [
    "#### 1.f\n",
    "\n",
    "a = 3, b = 3, n = 2\n",
    "\n",
    "| Source          | Sum of Squares (SS)                                        | Degrees of Freedom (df) |\n",
    "|-----------------|------------------------------------------------------------|-------------------------|\n",
    "| Factor A        | $SSA = 6.\\Sigma(\\alpha_i)^2$                               |  a - 1 = 2              |\n",
    "| Factor B        | $SSB = 6.\\Sigma(\\beta_j)^2$                                |  b - 1 = 2              |\n",
    "| Interaction AxB | $SSAB = 2.\\Sigma\\Sigma(\\alpha\\beta_{ij})^2$                | (a - 1)(b - 1) = 4      |\n",
    "| Error           | $SSE = \\Sigma\\Sigma\\Sigma(Y_{ijk} - \\bar{Y}_{ij.})^2$      | ab(n - 1) = 9           |\n",
    "| Total           | $SSTO = \\Sigma\\Sigma\\Sigma(Y_{ijk} - Y_{...})^2$           | abn - 1 = 17            |\n",
    "\n",
    "Where:\n",
    "- $ Y_{ijk} $ is the observation for the $ i $-th level of Factor A, $ j $-th level of Factor B, and $ k $-th replicate.\n",
    "- $ α_i $, $ β_j $, and $ αβ_{ij} $ are the effects of Factor A, Factor B, and their interaction, respectively.\n",
    "- $ a $ and $ b $ are the number of levels in Factor A and Factor B, respectively.\n",
    "- $ n $ is the number of replicates per cell.\n",
    "\n",
    "**Null Hypotheses to be tested with this table:**\n",
    "1. **For Factor A**: $ H_{0A}: $ All levels of Factor A have the same effect, i.e., $ α_1 = α_2 = ... = α_a = 0 $.\n",
    "2. **For Factor B**: $ H_{0B}: $ All levels of Factor B have the same effect, i.e., $ β_1 = β_2 = ... = β_b = 0 $.\n",
    "3. **For Interaction AxB**: $ H_{0AB}: $ There is no interaction between Factors A and B, i.e., all $ αβ_{ij} = 0 $ for each combination of $ i $ and $ j $."
   ]
  },
  {
   "cell_type": "markdown",
   "metadata": {},
   "source": [
    "#### 1.g\n",
    "The model can be expressed in matrix form as:  $ Y = X\\mu + \\epsilon $\n",
    "1. **Vector Y (Response Vector)**:\n",
    "   - Y is an 18x1 vector, representing the observations. \n",
    "   $$ Y = [Y_{111}, Y_{112}, Y_{121}, Y_{122}, Y_{131}, Y_{132}, Y_{211}, Y_{212}, Y_{221}, Y_{222}, Y_{231}, Y_{232}, Y_{311}, Y_{312}, Y_{321}, Y_{322}, Y_{331}, Y_{332}]^T$$\n",
    "\n",
    "2. **Design Matrix X**:\n",
    "    - X is an 18x9 matrix. (1 + (a-1) + (b-1) + (a-1)(b-1)) = 9\n",
    "   $$\n",
    "   X =\n",
    "      \\begin{bmatrix}\n",
    "      1 & 1 & 0 & 1 & 0 & 1 & 0 & 0 & 0 \\\\\n",
    "      1 & 1 & 0 & 1 & 0 & 1 & 0 & 0 & 0 \\\\\n",
    "      1 & 1 & 0 & 0 & 1 & 0 & 1 & 0 & 0 \\\\\n",
    "      1 & 1 & 0 & 0 & 1 & 0 & 1 & 0 & 0 \\\\\n",
    "      1 & 1 & 0 & -1 & -1 & -1 & -1 & 0 & 0 \\\\\n",
    "      1 & 1 & 0 & -1 & -1 & -1 & -1 & 0 & 0 \\\\\n",
    "      1 & 0 & 1 & 1 & 0 & 0 & 0 & 1 & 0 \\\\\n",
    "      1 & 0 & 1 & 1 & 0 & 0 & 0 & 1 & 0 \\\\\n",
    "      1 & 0 & 1 & 0 & 1 & 0 & 0 & 0 & 1 \\\\\n",
    "      1 & 0 & 1 & 0 & 1 & 0 & 0 & 0 & 1 \\\\\n",
    "      1 & 0 & 1 & -1 & -1 & 0 & 0 & -1 & -1 \\\\\n",
    "      1 & 0 & 1 & -1 & -1 & 0 & 0 & -1 & -1 \\\\\n",
    "      1 & -1 & -1 & 1 & 0 & -1 & 0 & -1 & 0 \\\\\n",
    "      1 & -1 & -1 & 1 & 0 & -1 & 0 & -1 & 0 \\\\\n",
    "      1 & -1 & -1 & 0 & 1 & 0 & -1 & 0 & -1 \\\\\n",
    "      1 & -1 & -1 & 0 & 1 & 0 & -1 & 0 & -1 \\\\\n",
    "      1 & -1 & -1 & -1 & -1 & 1 & 1 & 1 & 1 \\\\\n",
    "      1 & -1 & -1 & -1 & -1 & 1 & 1 & 1 & 1 \\\\\n",
    "      \\end{bmatrix}\n",
    "   $$\n",
    "\n",
    "3. **Vector of Parameters μ (Parameter Vector)**:\n",
    "   - It is a 9x1 vector\n",
    "   $$ \\mu = [\\mu, \\alpha_1, \\alpha_2, \\beta_1, \\beta_2, (\\alpha\\beta)_{11}, (\\alpha\\beta)_{12}, (\\alpha\\beta)_{21}, (\\alpha\\beta)_{22}]^T $$\n",
    "\n",
    "4. **Vector of Errors ε (Error Vector)**:\n",
    "   - $\\epsilon$ is an 18x1 vector, representing the random error associated with each observation.\n",
    "   $$ \\epsilon = [\\epsilon_{111}, \\epsilon_{112}, \\epsilon_{121}, \\epsilon_{122}, \\epsilon_{131}, \\epsilon_{132}, \\epsilon_{211}, \\epsilon_{212}, \\epsilon_{221}, \\epsilon_{222}, \\epsilon_{231}, \\epsilon_{232}, \\epsilon_{311}, \\epsilon_{312}, \\epsilon_{321}, \\epsilon_{322}, \\epsilon_{331}, \\epsilon_{332}]^T$$"
   ]
  },
  {
   "cell_type": "markdown",
   "metadata": {},
   "source": [
    "#### 1.h\n",
    "$$ \\mu = [\\mu, \\alpha_1, \\alpha_2, \\beta_1, \\beta_2, (\\alpha\\beta)_{11}, (\\alpha\\beta)_{12}, (\\alpha\\beta)_{21}, (\\alpha\\beta)_{22}]^T $$\n",
    "\n",
    "$ L = \\mu_{12} - \\mu_{13} $\n",
    "\n",
    "- $ \\mu_{12} $ is the mean response for the first level of Factor A and the second level of Factor B.\n",
    "- $ \\mu_{13} $ is the mean response for the first level of Factor A and the third level of Factor B.\n",
    "\n",
    "We can express $ \\mu_{12} $ and $ \\mu_{13} $ as:\n",
    "- $ \\mu_{12} = \\mu + \\alpha_1 + \\beta_2 + (\\alpha\\beta)_{12} $\n",
    "- $ \\mu_{13} = \\mu + \\alpha_1 + \\beta_3 + (\\alpha\\beta)_{13} $\n",
    "- $ \\beta_3 = -\\beta_1 - \\beta_2 $\n",
    "- $ (\\alpha\\beta)_{13} = -(\\alpha\\beta)_{11} - (\\alpha\\beta)_{12} $\n",
    "\n",
    "The contrast $ L = \\mu_{12} - \\mu_{13} $:\n",
    "$$ L = (\\beta_2 - \\beta_3) + ((\\alpha\\beta)_{12} - (\\alpha\\beta)_{13}) $$\n",
    "$$ L = (\\beta_2 - (-\\beta_1 - \\beta_2))) + ((\\alpha\\beta)_{12} - (-(\\alpha\\beta)_{11} - (\\alpha\\beta)_{12})) $$\n",
    "$$ L = 2.\\beta_2 + \\beta_1 + 2.\\alpha\\beta_{12} + \\alpha\\beta_{11} $$\n",
    "\n",
    "We identify the coefficients that multiply each component of $ \\mu $ to achieve this contrast:\n",
    "$$ C = [0, 0, 0, 1, 2, 1, 2, 0, 0]^T $$"
   ]
  },
  {
   "cell_type": "markdown",
   "metadata": {},
   "source": [
    "#### 1.i\n",
    "The two-way factor effects model with reference constraints:\n",
    "$$ Y_{ijk} = \\mu + \\alpha_i + \\beta_j + (\\alpha\\beta)_{ij} + \\epsilon_{ijk} $$\n",
    "\n",
    "Where:\n",
    "- $ Y_{ijk} $ is the response for the $ i $-th level of factor A, the $ j $-th level of factor B, and the $ k $-th replicate.\n",
    "- $ \\mu $ is the overall mean response.\n",
    "- $ \\alpha_i $ is the effect of the $ i $-th level of factor A relative to the reference level of factor A.\n",
    "- $ \\beta_j $ is the effect of the $ j $-th level of factor B relative to the reference level of factor B.\n",
    "- $ (\\alpha\\beta)_{ij} $ is the interaction effect between the $ i $-th level of factor A and the $ j $-th level of factor B.\n",
    "- $ \\epsilon_{ijk} $ is the random error.\n",
    "\n",
    "**Assumptions:**\n",
    "1. Independence: Observations are independent of each other.\n",
    "2. Normality: The error terms $ \\epsilon_{ijk} $ are normally distributed with a mean of 0.\n",
    "3. Homoscedasticity: The error terms have constant variance $ \\sigma^2 $ across all levels of the factors.\n",
    "4. Random Sampling: The samples for each group (combination of factor levels) are randomly selected and are representative of the populations.\n",
    "5. Fixed Effects: Both factors are treated as fixed effects.\n",
    "\n",
    "**Distributional Assumptions:**\n",
    "- $ \\epsilon_{ijk} \\sim N(0, \\sigma^2) $: The errors are normally distributed with mean 0 and variance $ \\sigma^2 $.\n",
    "\n",
    "**Reference (One-Hot) Constraints:**\n",
    "- One level of each factor is chosen as the reference level. Typically, the first level is chosen.\n",
    "- For Factor A: $ \\alpha_1 = 0 $ (if the first level is the reference).\n",
    "- For Factor B: $ \\beta_1 = 0 $ (if the first level is the reference).\n",
    "- For the interaction terms: $ (\\alpha\\beta)_{i1} = (\\alpha\\beta)_{1j} = 0 $ for all $ i $ and $ j $, which means that interaction effects involving the reference levels are set to zero."
   ]
  },
  {
   "cell_type": "markdown",
   "metadata": {},
   "source": [
    "#### 1.j\n",
    "The model can be expressed in matrix form as:  $ Y = X\\mu + \\epsilon $\n",
    "\n",
    "1. **Vector Y (Response Vector)**:\n",
    "   - Y is an 18x1 vector, representing the observations. \n",
    "   $$ Y = [Y_{111}, Y_{112}, Y_{121}, Y_{122}, Y_{131}, Y_{132}, Y_{211}, Y_{212}, Y_{221}, Y_{222}, Y_{231}, Y_{232}, Y_{311}, Y_{312}, Y_{321}, Y_{322}, Y_{331}, Y_{332}]^T$$\n",
    "\n",
    "\n",
    "2. **Design Matrix X**:\n",
    "   - X is an 18x9 matrix. (1 + (a-1) + (b-1) + (a-1)(b-1)) = 9\n",
    "   $$\n",
    "   X =\n",
    "      \\begin{bmatrix}\n",
    "      1 & 0 & 0 & 0 & 0 & 0 & 0 & 0 & 0 \\\\\n",
    "      1 & 0 & 0 & 0 & 0 & 0 & 0 & 0 & 0 \\\\\n",
    "      1 & 0 & 0 & 1 & 0 & 0 & 0 & 0 & 0 \\\\\n",
    "      1 & 0 & 0 & 1 & 0 & 0 & 0 & 0 & 0 \\\\\n",
    "      1 & 0 & 0 & 0 & 1 & 0 & 0 & 0 & 0 \\\\\n",
    "      1 & 0 & 0 & 0 & 1 & 0 & 0 & 0 & 0 \\\\\n",
    "      1 & 1 & 0 & 0 & 0 & 0 & 0 & 0 & 0 \\\\\n",
    "      1 & 1 & 0 & 0 & 0 & 0 & 0 & 0 & 0 \\\\\n",
    "      1 & 1 & 0 & 1 & 0 & 1 & 0 & 0 & 0 \\\\\n",
    "      1 & 1 & 0 & 1 & 0 & 1 & 0 & 0 & 0 \\\\\n",
    "      1 & 1 & 0 & 0 & 1 & 0 & 1 & 0 & 0 \\\\\n",
    "      1 & 1 & 0 & 0 & 1 & 0 & 1 & 0 & 0 \\\\\n",
    "      1 & 0 & 1 & 0 & 0 & 0 & 0 & 0 & 0 \\\\\n",
    "      1 & 0 & 1 & 0 & 0 & 0 & 0 & 0 & 0 \\\\\n",
    "      1 & 0 & 1 & 1 & 0 & 0 & 0 & 1 & 0 \\\\\n",
    "      1 & 0 & 1 & 1 & 0 & 0 & 0 & 1 & 0 \\\\\n",
    "      1 & 0 & 1 & 0 & 1 & 0 & 0 & 0 & 1 \\\\\n",
    "      1 & 0 & 1 & 0 & 1 & 0 & 0 & 0 & 1 \\\\\n",
    "      \\end{bmatrix}\n",
    "   $$\n",
    "\n",
    "3. **Vector of Parameters μ (Parameter Vector)**:\n",
    "   - The parameter vector is a 9x1 vector\n",
    "   $$ \\mu = [\\mu, \\alpha_2, \\alpha_3, \\beta_2, \\beta_3, (\\alpha\\beta)_{22}, (\\alpha\\beta)_{23}, (\\alpha\\beta)_{32}, (\\alpha\\beta)_{33}]^T $$\n",
    "\n",
    "4. **Vector of Errors ε (Error Vector)**:\n",
    "   - ε is an 18x1 vector, representing the random error associated with each observation.\n",
    "   $$ \\epsilon = [\\epsilon_{111}, \\epsilon_{112}, \\epsilon_{121}, \\epsilon_{122}, \\epsilon_{131}, \\epsilon_{132}, \\epsilon_{211}, \\epsilon_{212}, \\epsilon_{221}, \\epsilon_{222}, \\epsilon_{231}, \\epsilon_{232}, \\epsilon_{311}, \\epsilon_{312}, \\epsilon_{321}, \\epsilon_{322}, \\epsilon_{331}, \\epsilon_{332}]^T$$"
   ]
  },
  {
   "cell_type": "markdown",
   "metadata": {},
   "source": [
    "#### 1.k\n",
    "$$ \\mu = [\\mu, \\alpha_2, \\alpha_3, \\beta_2, \\beta_3, (\\alpha\\beta)_{22}, (\\alpha\\beta)_{23}, (\\alpha\\beta)_{32}, (\\alpha\\beta)_{33}]^T $$\n",
    "\n",
    "$ L = \\mu_{12} - \\mu_{13} $\n",
    "\n",
    "- $ \\mu_{12} $ is the mean response for the first level of Factor A and the second level of Factor B.\n",
    "- $ \\mu_{13} $ is the mean response for the first level of Factor A and the third level of Factor B.\n",
    "\n",
    "We can express $ \\mu_{12} $ and $ \\mu_{13} $ as:\n",
    "- $ \\mu_{12} = \\mu + \\alpha_1 + \\beta_2 + (\\alpha\\beta)_{12} $\n",
    "- $ \\mu_{13} = \\mu + \\alpha_1 + \\beta_3 + (\\alpha\\beta)_{13} $\n",
    "- $ \\alpha1 = 0 $ (reference constraint)\n",
    "- $ (\\alpha\\beta)_{12} = (\\alpha\\beta)_{13} = 0 $ (reference constraint)\n",
    "\n",
    "The contrast $ L = \\mu_{12} - \\mu_{13} $:\n",
    "$$ L = \\beta_2 - \\beta_3$$\n",
    "\n",
    "We identify the coefficients that multiply each component of $ \\mu $ to achieve this contrast:\n",
    "$$ C = [0, 0, 0, 1, -1, 0, 0, 0, 0]^T $$"
   ]
  },
  {
   "cell_type": "markdown",
   "metadata": {},
   "source": [
    "### Question 2\n",
    "#### 2.a"
   ]
  },
  {
   "cell_type": "code",
   "execution_count": 2,
   "metadata": {},
   "outputs": [],
   "source": [
    "def linear_regression_with_reference(data):\n",
    "    \"\"\"\n",
    "    Performs linear regression on a multi-level, 2-factor experimental design\n",
    "    with a reference constraint (u11)\n",
    "    param data: A numpy array of the format [[Y, i, j, k], [Y, i, j, k], ...]\n",
    "    :return: A dictionary with estimated coefficients, residuals, mse, and the design matrix\n",
    "    \"\"\"\n",
    "    # Get the number of observations\n",
    "    n = len(data)\n",
    "\n",
    "    # Extract response and factor levels\n",
    "    Y = data[:, 0]\n",
    "    level_A = data[:, 1]\n",
    "    level_B = data[:, 2]\n",
    "\n",
    "    # determine number of levels for each factor\n",
    "    num_levels_A = np.size(np.unique(level_A))\n",
    "    num_levels_B = np.size(np.unique(level_B))\n",
    "\n",
    "    # create design matrix A\n",
    "    num_columns = (\n",
    "        1\n",
    "        + (num_levels_A - 1)\n",
    "        + (num_levels_B - 1)\n",
    "        + (num_levels_A - 1) * (num_levels_B - 1)\n",
    "    )\n",
    "    X = np.ones((n, num_columns))\n",
    "\n",
    "    # main effects\n",
    "    for i in range(1, num_levels_A):\n",
    "        X[:, i] = (level_A == (i + 1)).astype(int)\n",
    "\n",
    "    for j in range(1, num_levels_B):\n",
    "        X[:, num_levels_A - 1 + j] = (level_B == (j + 1)).astype(int)\n",
    "\n",
    "    # interaction effects\n",
    "    for i in range(1, num_levels_A):\n",
    "        for j in range(1, num_levels_B):\n",
    "            col_idx = (\n",
    "                (num_levels_A - 1)\n",
    "                + (num_levels_B - 1)\n",
    "                + (i - 1) * (num_levels_B - 1)\n",
    "                + j\n",
    "            )\n",
    "            X[:, col_idx] = ((level_A == (i + 1)) & (level_B == (j + 1))).astype(int)\n",
    "\n",
    "    # solve for coefficients\n",
    "    mu_hat = np.linalg.inv(X.T @ X) @ X.T @ Y\n",
    "\n",
    "    # calculate residuals and mse\n",
    "    residuals = Y - X @ mu_hat\n",
    "    mse = np.sum(residuals**2) / (n - num_columns)\n",
    "\n",
    "    return {\n",
    "        \"coefficients\": mu_hat,\n",
    "        \"residuals\": residuals,\n",
    "        \"mse\": mse,\n",
    "        \"design_matrix\": X,\n",
    "    }"
   ]
  },
  {
   "cell_type": "code",
   "execution_count": 3,
   "metadata": {},
   "outputs": [],
   "source": [
    "def linear_regression_reduced_model(data):\n",
    "    \"\"\"\n",
    "    Performs linear regression on a multi-level, 2-factor experimental design\n",
    "    with a reference constraint (u11), excluding interaction terms.\n",
    "    :param data: A numpy array of the format [[Y, i, j, k], [Y, i, j, k], ...]\n",
    "    :return: A dictionary with estimated coefficients, residuals, mse, and the design matrix\n",
    "    \"\"\"\n",
    "    # Get the number of observations\n",
    "    n = len(data)\n",
    "\n",
    "    # Extract response and factor levels\n",
    "    Y = data[:, 0]\n",
    "    level_A = data[:, 1]\n",
    "    level_B = data[:, 2]\n",
    "\n",
    "    # Determine number of levels for each factor\n",
    "    num_levels_A = np.size(np.unique(level_A))\n",
    "    num_levels_B = np.size(np.unique(level_B))\n",
    "\n",
    "    # Create design matrix for reduced model (excluding interaction effects)\n",
    "    num_columns = 1 + (num_levels_A - 1) + (num_levels_B - 1)\n",
    "    X = np.ones((n, num_columns))\n",
    "\n",
    "    # Main effects\n",
    "    for i in range(1, num_levels_A):\n",
    "        X[:, i] = (level_A == (i + 1)).astype(int)\n",
    "\n",
    "    for j in range(1, num_levels_B):\n",
    "        X[:, num_levels_A - 1 + j] = (level_B == (j + 1)).astype(int)\n",
    "\n",
    "    # Solve for coefficients\n",
    "    mu_hat = np.linalg.inv(X.T @ X) @ X.T @ Y\n",
    "\n",
    "    # Calculate residuals and MSE\n",
    "    residuals = Y - X @ mu_hat\n",
    "    mse = np.sum(residuals**2) / (n - num_columns)\n",
    "\n",
    "    return {\n",
    "        \"coefficients\": mu_hat,\n",
    "        \"residuals\": residuals,\n",
    "        \"mse\": mse,\n",
    "        \"design_matrix\": X,\n",
    "    }"
   ]
  },
  {
   "cell_type": "markdown",
   "metadata": {},
   "source": [
    "#### 2.b"
   ]
  },
  {
   "cell_type": "code",
   "execution_count": 4,
   "metadata": {},
   "outputs": [],
   "source": [
    "def calculate_contrast(mu_hat, contrast_vector):\n",
    "    \"\"\"\n",
    "    Calculates the contrast given the estimated parameters and a contrast vector.\n",
    "\n",
    "    :param mu_hat: Estimated parameters.\n",
    "    :param contrast_vector: A vector defining the linear combination of the parameters.\n",
    "    :return: The calculated contrast value.\n",
    "    \"\"\"\n",
    "    return np.dot(contrast_vector, mu_hat)"
   ]
  },
  {
   "cell_type": "code",
   "execution_count": 5,
   "metadata": {},
   "outputs": [],
   "source": [
    "def calculate_contrast_standard_error(X, mse, contrast_vector):\n",
    "    \"\"\"\n",
    "    Calculates the standard error of a contrast.\n",
    "\n",
    "    :param X: Design matrix.\n",
    "    :param mu_hat: Estimated parameters.\n",
    "    :param Y: Response vector.\n",
    "    :param contrast_vector: Contrast vector.\n",
    "    :return: The standard error of the contrast.\n",
    "    \"\"\"\n",
    "    # calculate variance - covariance matrix\n",
    "    var_covar = mse * np.linalg.inv(np.dot(X.T, X))\n",
    "\n",
    "    # contrast_variance = residual_variance * np.dot(\n",
    "    #     np.dot(contrast_vector, np.linalg.inv(np.dot(X.T, X))), contrast_vector.T\n",
    "    # )\n",
    "\n",
    "    # calculate contrast variance\n",
    "    contrast_variance = np.dot(np.dot(contrast_vector, var_covar), contrast_vector.T)\n",
    "\n",
    "    return np.sqrt(contrast_variance)"
   ]
  },
  {
   "cell_type": "markdown",
   "metadata": {},
   "source": [
    "### Question 3"
   ]
  },
  {
   "cell_type": "code",
   "execution_count": 6,
   "metadata": {},
   "outputs": [],
   "source": [
    "data = np.array(\n",
    "    [\n",
    "        [2.4, 1, 1, 1],\n",
    "        [2.7, 1, 1, 2],\n",
    "        [2.3, 1, 1, 3],\n",
    "        [2.5, 1, 1, 4],\n",
    "        [4.6, 1, 2, 1],\n",
    "        [4.2, 1, 2, 2],\n",
    "        [4.9, 1, 2, 3],\n",
    "        [4.7, 1, 2, 4],\n",
    "        [4.8, 1, 3, 1],\n",
    "        [4.5, 1, 3, 2],\n",
    "        [4.4, 1, 3, 3],\n",
    "        [4.6, 1, 3, 4],\n",
    "        [5.8, 2, 1, 1],\n",
    "        [5.2, 2, 1, 2],\n",
    "        [5.5, 2, 1, 3],\n",
    "        [5.3, 2, 1, 4],\n",
    "        [8.9, 2, 2, 1],\n",
    "        [9.1, 2, 2, 2],\n",
    "        [8.7, 2, 2, 3],\n",
    "        [9.0, 2, 2, 4],\n",
    "        [9.1, 2, 3, 1],\n",
    "        [9.3, 2, 3, 2],\n",
    "        [8.7, 2, 3, 3],\n",
    "        [9.4, 2, 3, 4],\n",
    "        [6.1, 3, 1, 1],\n",
    "        [5.7, 3, 1, 2],\n",
    "        [5.9, 3, 1, 3],\n",
    "        [6.2, 3, 1, 4],\n",
    "        [9.9, 3, 2, 1],\n",
    "        [10.5, 3, 2, 2],\n",
    "        [10.6, 3, 2, 3],\n",
    "        [10.1, 3, 2, 4],\n",
    "        [13.5, 3, 3, 1],\n",
    "        [13.0, 3, 3, 2],\n",
    "        [13.3, 3, 3, 3],\n",
    "        [13.2, 3, 3, 4],\n",
    "    ],\n",
    "    dtype=float,\n",
    ")"
   ]
  },
  {
   "cell_type": "markdown",
   "metadata": {},
   "source": [
    "#### 3.a\n",
    "Randomization in the context of experimental design is important to ensure validity of the results and claim causality.\n",
    "\n",
    "**How to Randomize:**\n",
    "1. List all treatment combination of the levels of factors A and B. There are 3 levels of factor A and 3 levels of factor B, resulting in 9 combinations (3x3).\n",
    "2. Assign volunteers to treatments:\n",
    "    - Each volunteer is assigned to a treatment combination in a random and unbiased order.\n",
    "    - This can be done by using random number generators, or shuffling.\n",
    "    - Allocate equal number of volunteers to each treatment combination.\n",
    "\n",
    "**Why is randomization important:**\n",
    "1. Controls for confounding variables: Randomization ensures that any other variables (known or unknown) that might affect the outcome are equally distributed across all treatment groups.\n",
    "2. Reduces Bias: By randomly assigning volunteers to treatments, we reduce the risk of systematic bias in the allocation process.\n",
    "3. Increases Generalizability: By randomizing, we increase the likelihood that the study results are generalizable to a wider population, as the sample within each treatment group is more likely to be representative of the population."
   ]
  },
  {
   "cell_type": "markdown",
   "metadata": {},
   "source": [
    "#### 3.b"
   ]
  },
  {
   "cell_type": "code",
   "execution_count": 7,
   "metadata": {},
   "outputs": [
    {
     "data": {
      "image/png": "[encoded data removed]",
      "text/plain": [
       "<Figure size 1000x600 with 1 Axes>"
      ]
     },
     "metadata": {},
     "output_type": "display_data"
    }
   ],
   "source": [
    "# calculate mean responses for each level of factors A and B\n",
    "levels_A = np.unique(data[:, 1])\n",
    "levels_B = np.unique(data[:, 2])\n",
    "\n",
    "means = np.zeros((len(levels_A), len(levels_B)))\n",
    "\n",
    "for i in range(len(levels_B)):\n",
    "    for j in range(len(levels_A)):\n",
    "        # Filter data for current combination of levels\n",
    "        filtered_data = data[(data[:, 1] == levels_A[j]) & (data[:, 2] == levels_B[i])]\n",
    "\n",
    "        # Calculate mean response\n",
    "        mean_response = np.mean(filtered_data[:, 0])\n",
    "        means[i, j] = mean_response\n",
    "\n",
    "factor_B_levels = [\"Low\", \"Medium\", \"High\"]\n",
    "factor_B_colors = [\"blue\", \"green\", \"red\"]\n",
    "\n",
    "# Creating the plot\n",
    "plt.figure(figsize=(10, 6))\n",
    "for i in range(len(factor_B_colors)):\n",
    "    plt.plot(\n",
    "        factor_B_levels,\n",
    "        means[i, :],\n",
    "        marker=\"o\",\n",
    "        color=factor_B_colors[i],\n",
    "        label=f\"Factor B: {factor_B_levels[i]}\",\n",
    "    )\n",
    "\n",
    "plt.xlabel(\"Factor A Levels\")\n",
    "plt.ylabel(\"Mean Hours of Relief\")\n",
    "plt.title(\"Treatment Means Plot\")\n",
    "plt.legend()\n",
    "plt.show()"
   ]
  },
  {
   "cell_type": "markdown",
   "metadata": {},
   "source": [
    "Based on the plot above, both factor A and factor B have main effects as well as interaction effects on the response.\n",
    "\n",
    "**Main Effects**\n",
    "1. Factor A: We see an upward trend as we move from low to high levels of Factor A. This suggests that higher levels of ingredient 1 are associated with more hours of relief, indicating that the Factor A has a main effect on response.\n",
    "2. Factor B: Low and High levels of Factor B show different starting points and trends, indicating that the Factor B has a main effect on response.\n",
    "\n",
    "**Interaction Effects**\n",
    "1. All of the lines are not parallel, indicating that there is an interaction effect between the two factors.\n",
    "2. Specifically, the difference between medium and high levels of factor B is higher at High levels of factor A. This suggests that, there is interaction between factor A and factor B."
   ]
  },
  {
   "cell_type": "markdown",
   "metadata": {},
   "source": [
    "#### 3.c\n",
    "**Hypothesis:**\n",
    "- Null Hypothesis (H0): There is no interaction between factors A and B. i.e $ (\\alpha\\beta)_{ij} = 0 $ for all $ i $ and $ j $.\n",
    "- Alternate Hypothesis (H1): There is interaction between factors A and B. i.e $ (\\alpha\\beta)_{ij} \\neq 0 $ for at least one combination of $ i $ and $ j $."
   ]
  },
  {
   "cell_type": "code",
   "execution_count": 8,
   "metadata": {},
   "outputs": [
    {
     "name": "stdout",
     "output_type": "stream",
     "text": [
      "F-statistic: 122.22692307692303, P-value: 1.1102230246251565e-16\n",
      "Reject H0: Evidence of significant interaction effect.\n"
     ]
    }
   ],
   "source": [
    "# fit the full model\n",
    "full_model_results = linear_regression_with_reference(data)\n",
    "full_model_rss = np.sum(full_model_results[\"residuals\"] ** 2)\n",
    "num_params_full = len(full_model_results[\"coefficients\"])\n",
    "\n",
    "# fit the reduced model\n",
    "reduced_model_results = linear_regression_reduced_model(data)\n",
    "reduced_model_rss = np.sum(reduced_model_results[\"residuals\"] ** 2)\n",
    "num_params_reduced = len(reduced_model_results[\"coefficients\"])\n",
    "\n",
    "# calculate F-statistic\n",
    "n = len(data)\n",
    "num_interactions = num_params_full - num_params_reduced\n",
    "\n",
    "numerator = (reduced_model_rss - full_model_rss) / num_interactions\n",
    "denominator = full_model_rss / (n - num_params_full)\n",
    "f_statistic = numerator / denominator\n",
    "\n",
    "# find p-value\n",
    "p_value = 1 - stats.f.cdf(f_statistic, num_interactions, n - num_params_full)\n",
    "\n",
    "print(f\"F-statistic: {f_statistic}, P-value: {p_value}\")\n",
    "if p_value < 0.05:\n",
    "    print(\"Reject H0: Evidence of significant interaction effect.\")\n",
    "else:\n",
    "    print(\"Fail to reject H0: No significant interaction effect detected.\")"
   ]
  },
  {
   "cell_type": "markdown",
   "metadata": {},
   "source": [
    "- From result of F-test above, we can see that p-value is less than 0.05.\n",
    "- This means there is significant interaction effect between factors A and B.  Hence, we reject the null hypothesis."
   ]
  },
  {
   "cell_type": "markdown",
   "metadata": {},
   "source": [
    "#### 3.d\n",
    "$$\\mu_{23} = \\mu + \\alpha_2 + \\beta_3 + (\\alpha\\beta)_{23} $$"
   ]
  },
  {
   "cell_type": "code",
   "execution_count": 9,
   "metadata": {},
   "outputs": [
    {
     "name": "stdout",
     "output_type": "stream",
     "text": [
      "Value of baseline mu11: 2.4749999999999983\n",
      "Estimate of mu23: 9.125000000000009\n",
      "95% Confidence Interval for mu23: (8.884584260860109, 9.365415739139909)\n"
     ]
    }
   ],
   "source": [
    "# Fit the full model\n",
    "results = linear_regression_with_reference(data)\n",
    "coefficients = results[\"coefficients\"]\n",
    "mse = results[\"mse\"]\n",
    "X = results[\"design_matrix\"]\n",
    "\n",
    "# contrast vector for mu23\n",
    "contrast_vector = np.array([1, 1, 0, 0, 1, 0, 1, 0, 0])\n",
    "\n",
    "# estimate mu23\n",
    "mu_23_estimate = calculate_contrast(coefficients, contrast_vector)\n",
    "\n",
    "# standard error for mu23\n",
    "se_mu_23 = calculate_contrast_standard_error(X, mse, contrast_vector)\n",
    "\n",
    "# 95% confidence interval\n",
    "z = stats.norm.ppf(0.975)\n",
    "ci_lower = mu_23_estimate - z * se_mu_23\n",
    "ci_upper = mu_23_estimate + z * se_mu_23\n",
    "\n",
    "print(f\"Value of baseline mu11: {coefficients[0]}\")\n",
    "print(f\"Estimate of mu23: {mu_23_estimate}\")\n",
    "print(f\"95% Confidence Interval for mu23: ({ci_lower}, {ci_upper})\")"
   ]
  },
  {
   "cell_type": "markdown",
   "metadata": {},
   "source": [
    "- The estimate for $\\mu_{23} = 9.125$ suggests that, on average the combination of 2nd level of Factor A and 3rd level of Factor B results in a response value of 9.125.\n",
    "- Compared to the baseline value of $\\mu_{11} = 2.47$, the significant increase shows presence of main effects or interaction effects of the factors on the response."
   ]
  },
  {
   "cell_type": "markdown",
   "metadata": {},
   "source": [
    "#### 3.e\n",
    "$ L = \\mu_{12} - \\mu_{13} $\n",
    "\n",
    "$ \\mu{12} = \\mu + \\alpha_1 + \\beta_2 + (\\alpha\\beta)_{12} $\n",
    "\n",
    "$ \\mu{13} = \\mu + \\alpha_1 + \\beta_3 + (\\alpha\\beta)_{13} $\n",
    "\n",
    "$ \\alpha_1 =  0 $ (reference constraint)\n",
    "\n",
    "$ (\\alpha\\beta)_{12} = (\\alpha\\beta)_{13} = 0 $ (reference constraint)\n",
    "\n",
    "$ L = \\beta_2 - \\beta_3 $"
   ]
  },
  {
   "cell_type": "code",
   "execution_count": 10,
   "metadata": {},
   "outputs": [
    {
     "name": "stdout",
     "output_type": "stream",
     "text": [
      "Estimate of L: 0.025000000000001688\n",
      "95% Confidence Interval for L: (-0.314999198899598, 0.36499919889960136)\n"
     ]
    }
   ],
   "source": [
    "# Fit the full model\n",
    "results = linear_regression_with_reference(data)\n",
    "coefficients = results[\"coefficients\"]\n",
    "mse = results[\"mse\"]\n",
    "X = results[\"design_matrix\"]\n",
    "\n",
    "# contrast vector for L\n",
    "contrast_vector = np.array([0, 0, 0, 1, -1, 0, 0, 0, 0])\n",
    "\n",
    "# estimate L\n",
    "estimate = calculate_contrast(coefficients, contrast_vector)\n",
    "\n",
    "# standard error for L\n",
    "se = calculate_contrast_standard_error(X, mse, contrast_vector)\n",
    "\n",
    "# 95% confidence interval\n",
    "z = stats.norm.ppf(0.975)\n",
    "ci_lower = estimate - z * se\n",
    "ci_upper = estimate + z * se\n",
    "\n",
    "print(f\"Estimate of L: {estimate}\")\n",
    "print(f\"95% Confidence Interval for L: ({ci_lower}, {ci_upper})\")"
   ]
  },
  {
   "cell_type": "markdown",
   "metadata": {},
   "source": [
    "- This contrast focuses on the difference between mean response for the second level of Factor B and the third level of Factor B while holding Factor A at its first level.\n",
    "- The value of $0.025$ shows that there is no significant difference between the response when Factor A is low and Factor B is Medium or High.\n",
    "- This is clearly seen in the treatment means plot between the Green and Red line when Factor A is low."
   ]
  },
  {
   "cell_type": "markdown",
   "metadata": {},
   "source": [
    "### Question 4\n",
    "#### 4.a"
   ]
  },
  {
   "cell_type": "code",
   "execution_count": 11,
   "metadata": {},
   "outputs": [],
   "source": [
    "data = np.array(\n",
    "    [\n",
    "    [73.0, 1, 1],\n",
    "    [81.0, 1, 2],\n",
    "    [92.0, 1, 3],\n",
    "    [76.0, 2, 1],\n",
    "    [78.0, 2, 2],\n",
    "    [89.0, 2, 3],\n",
    "    [75.0, 3, 1],\n",
    "    [76.0, 3, 2],\n",
    "    [87.0, 3, 3],\n",
    "    [74.0, 4, 1],\n",
    "    [77.0, 4, 2],\n",
    "    [90.0, 4, 3],\n",
    "    [76.0, 5, 1],\n",
    "    [71.0, 5, 2],\n",
    "    [88.0, 5, 3],\n",
    "    [73.0, 6, 1],\n",
    "    [75.0, 6, 2],\n",
    "    [86.0, 6, 3],\n",
    "    [68.0, 7, 1],\n",
    "    [72.0, 7, 2],\n",
    "    [88.0, 7, 3],\n",
    "    [64.0, 8, 1],\n",
    "    [74.0, 8, 2],\n",
    "    [82.0, 8, 3],\n",
    "    [65.0, 9, 1],\n",
    "    [73.0, 9, 2],\n",
    "    [81.0, 9, 3],\n",
    "    [62.0, 10, 1],\n",
    "    [69.0, 10, 2],\n",
    "    [78.0, 10, 3]\n",
    "], dtype=float)"
   ]
  },
  {
   "cell_type": "markdown",
   "metadata": {},
   "source": [
    "A randomized complete block design is useful in this study for the following reasons:\n",
    "\n",
    "1. **Control for Variability Among Blocks:** \n",
    "- The blocks are defined by the time elapsed since the auditors graduated from college. This factor is likely to influence their performance regardless of the training method used.\n",
    "- By grouping auditors into blocks based on this criteria, the design controls for the variability among different experience levels.\n",
    "- This means any differences observed within a block are due to the training methods rather than differences in experience.\n",
    "\n",
    "2. **Increased Precision:**\n",
    "- We can precisely estimate the effects of the training methods by removing the variability due to differences in experience levels.\n",
    "- By comparing auditors within the same block, the experiment can isolate the effect of the training methods.\n",
    "\n",
    "3. **Random Assignment Within Blocks:** \n",
    "- Each auditor within a block is randomly assigned to one of the training methods. This randomization helps to ensure that any other unmeasured factors are equally distributed across the training methods within each block. \n",
    "- This reduces the potential for these unmeasured factors to bias the results."
   ]
  },
  {
   "cell_type": "markdown",
   "metadata": {},
   "source": [
    "#### 4.b"
   ]
  },
  {
   "cell_type": "code",
   "execution_count": 12,
   "metadata": {},
   "outputs": [
    {
     "data": {
      "image/png": "[encoded data removed]",
      "text/plain": [
       "<Figure size 1000x600 with 1 Axes>"
      ]
     },
     "metadata": {},
     "output_type": "display_data"
    }
   ],
   "source": [
    "# filter responses for each level of factors A and B\n",
    "levels_A = np.unique(data[:, 1])\n",
    "levels_B = np.unique(data[:, 2])\n",
    "\n",
    "means = np.zeros((len(levels_B), len(levels_A)))\n",
    "\n",
    "for i in range(len(levels_B)):\n",
    "    for j in range(len(levels_A)):\n",
    "        means[i, j] = data[j*3+i, 0]\n",
    "\n",
    "factor_B_levels = [\"Training 1\", \"Training 2\", \"Training 3\"]\n",
    "factor_B_colors = [\"blue\", \"green\", \"red\"]\n",
    "\n",
    "# Creating the plot\n",
    "plt.figure(figsize=(10, 6))\n",
    "for i in range(len(factor_B_colors)):\n",
    "    plt.plot(\n",
    "        levels_A,\n",
    "        means[i, :],\n",
    "        marker=\"o\",\n",
    "        color=factor_B_colors[i],\n",
    "        label=f\"Factor B: {factor_B_levels[i]}\",\n",
    "    )\n",
    "\n",
    "plt.xlabel(\"Factor A Levels\")\n",
    "plt.ylabel(\"Score\")\n",
    "plt.title(\"Treatment Means Plot\")\n",
    "plt.legend()\n",
    "plt.show()"
   ]
  },
  {
   "cell_type": "code",
   "execution_count": 13,
   "metadata": {},
   "outputs": [
    {
     "name": "stdout",
     "output_type": "stream",
     "text": [
      "Multiple Comparison of Means - Tukey HSD, FWER=0.05 \n",
      "====================================================\n",
      "group1 group2 meandiff p-adj   lower   upper  reject\n",
      "----------------------------------------------------\n",
      "   1.0    2.0      4.0 0.1341 -0.9849  8.9849  False\n",
      "   1.0    3.0     15.5    0.0 10.5151 20.4849   True\n",
      "   2.0    3.0     11.5    0.0  6.5151 16.4849   True\n",
      "----------------------------------------------------\n"
     ]
    }
   ],
   "source": [
    "# use block and method as categorical variables\n",
    "df = pd.DataFrame(data, columns=[\"Score\", \"Block\", \"Method\"])\n",
    "df[\"Block\"] = df[\"Block\"].astype(\"category\")\n",
    "df[\"Method\"] = df[\"Method\"].astype(\"category\")\n",
    "\n",
    "# conduct turkey's HSD test\n",
    "tukey = multi.pairwise_tukeyhsd(endog=df[\"Score\"], groups=df[\"Method\"], alpha=0.05)\n",
    "print(tukey.summary())\n",
    "\n",
    "# turkey_plot = tukey.plot_simultaneous()\n",
    "# plt.show()"
   ]
  },
  {
   "cell_type": "markdown",
   "metadata": {},
   "source": [
    "**Hypothesis**\n",
    "- Null Hypothesis (H0): There is no difference in the mean performance scores for the three training methods. i.e $ \\mu_1 = \\mu_2 = \\mu_3 $. <br>\n",
    "Method of training does not significantly affect the performance scores of the auditors.\n",
    "\n",
    "- Alternate Hypothesis (H1): There is a significant difference in the mean scores between at least two of the training methods.<br>\n",
    "Method of training does affect the proficiency scores.\n",
    "\n",
    "From the Turkey HSD test results above,\n",
    "1. Comparison between Method 1 and Method 2:\n",
    "    - Mean difference: 4.0\n",
    "    - p-value: 0.1341\n",
    "    - Reject null-hypothesis: False\n",
    "    - Conclusion: There is no significant difference in the mean scores between Method 1 and Method 2. \n",
    "    - The null hypothesis cannot be rejected.\n",
    "<br><br>\n",
    "2. Comparison between Method 1 and Method 3:\n",
    "    - Mean difference: 15.5\n",
    "    - p-value: 0\n",
    "    - Reject null-hypothesis: True\n",
    "    - Conclusion: There is statistically significant difference in mean scores between Method 1 and Method 3. The difference in in favor of Method 3, suggesting that it is significantly better than Method 1.\n",
    "    - Null hypothesis is rejected for this pair.\n",
    "<br><br>\n",
    "3. Comparison between Method 2 and Method 3:\n",
    "    - Mean difference: 11.5\n",
    "    - p-value: 0\n",
    "    - Reject null-hypothesis: True\n",
    "    - Conclusion: There is statistically significant difference in mean scores between Method 2 and Method 3. The difference in in favor of Method 3, suggesting that it is significantly better than Method 2.\n",
    "    - Null hypothesis is rejected for this pair.\n",
    "\n",
    "In conclusion, the training sessions conducted in Chicago by National Staff (Method 3) is significantly more effective than both study-at-home (Method 1) and training by local staff (Method 2).\n",
    "\n",
    "There is no significant difference in effectiveness between Method 1 and Method 2."
   ]
  },
  {
   "cell_type": "markdown",
   "metadata": {},
   "source": [
    "#### 4.c"
   ]
  },
  {
   "cell_type": "code",
   "execution_count": 14,
   "metadata": {},
   "outputs": [
    {
     "name": "stdout",
     "output_type": "stream",
     "text": [
      "                            OLS Regression Results                            \n",
      "==============================================================================\n",
      "Dep. Variable:                  Score   R-squared:                       0.939\n",
      "Model:                            OLS   Adj. R-squared:                  0.902\n",
      "Method:                 Least Squares   F-statistic:                     25.18\n",
      "Date:                Fri, 17 Nov 2023   Prob (F-statistic):           1.11e-08\n",
      "Time:                        21:53:33   Log-Likelihood:                -62.372\n",
      "No. Observations:                  30   AIC:                             148.7\n",
      "Df Residuals:                      18   BIC:                             165.6\n",
      "Df Model:                          11                                         \n",
      "Covariance Type:            nonrobust                                         \n",
      "====================================================================================\n",
      "                       coef    std err          t      P>|t|      [0.025      0.975]\n",
      "------------------------------------------------------------------------------------\n",
      "Intercept           75.5000      1.580     47.786      0.000      72.181      78.819\n",
      "C(Block)[T.2.0]     -1.0000      2.040     -0.490      0.630      -5.285       3.285\n",
      "C(Block)[T.3.0]     -2.6667      2.040     -1.307      0.208      -6.952       1.619\n",
      "C(Block)[T.4.0]     -1.6667      2.040     -0.817      0.425      -5.952       2.619\n",
      "C(Block)[T.5.0]     -3.6667      2.040     -1.798      0.089      -7.952       0.619\n",
      "C(Block)[T.6.0]     -4.0000      2.040     -1.961      0.066      -8.285       0.285\n",
      "C(Block)[T.7.0]     -6.0000      2.040     -2.942      0.009     -10.285      -1.715\n",
      "C(Block)[T.8.0]     -8.6667      2.040     -4.249      0.000     -12.952      -4.381\n",
      "C(Block)[T.9.0]     -9.0000      2.040     -4.412      0.000     -13.285      -4.715\n",
      "C(Block)[T.10.0]   -12.3333      2.040     -6.047      0.000     -16.619      -8.048\n",
      "C(Method)[T.2.0]     4.0000      1.117      3.580      0.002       1.653       6.347\n",
      "C(Method)[T.3.0]    15.5000      1.117     13.874      0.000      13.153      17.847\n",
      "==============================================================================\n",
      "Omnibus:                        0.215   Durbin-Watson:                   2.863\n",
      "Prob(Omnibus):                  0.898   Jarque-Bera (JB):                0.004\n",
      "Skew:                           0.021   Prob(JB):                        0.998\n",
      "Kurtosis:                       2.962   Cond. No.                         12.1\n",
      "==============================================================================\n",
      "\n",
      "Notes:\n",
      "[1] Standard Errors assume that the covariance matrix of the errors is correctly specified.\n"
     ]
    }
   ],
   "source": [
    "# use block and method as categorical variables\n",
    "df = pd.DataFrame(data, columns=[\"Score\", \"Block\", \"Method\"])\n",
    "df[\"Block\"] = df[\"Block\"].astype(\"category\")\n",
    "df[\"Method\"] = df[\"Method\"].astype(\"category\")\n",
    "\n",
    "additive_model = ols(\"Score ~ C(Block) + C(Method)\", data=df).fit()\n",
    "print(additive_model.summary())"
   ]
  },
  {
   "cell_type": "markdown",
   "metadata": {},
   "source": [
    "**Model Summary**\n",
    "- R-Squared = 0.939: The value is high, indicating that the model explains about 94% of the variability in the response.\n",
    "- Adjusted R-squared = 0.902: The value is high, accounting for number of predictors in the model, indicating that this model is a good fit.\n",
    "- F-statistic = 25.18: Significant value indicating that the model is statistically significant.\n",
    "\n",
    "**Coefficient Summary**:\n",
    "1. Intercept = 75.5: Estimated mean score for the baseline category (Method 1, Block 1) before the effects of other methods and blocks are taken into account.\n",
    "\n",
    "2. Method 2 (Coefficient = 4.000):  Method 2 increases the score by 4 points, holding the block constant.\n",
    "\n",
    "3. Method 3 (Coefficient = 15.500): Method 3 increases the score by 15.5 points, holding the block constant.\n",
    "\n",
    "4. Blocks 2 to 10 Coefficients: These represent the differences in mean scores for each block compared to Block 1. Most of these are negative, indicating that the scores decrease with increasing time since graduation.\n",
    "\n",
    "**Conclusion**:\n",
    "- The model strongly suggests that the method of training has a significant impact on the scores, with Method 3 being the most effective (highest coefficient).\n",
    "- The trend of decreasing scores with increasing time since graduation shows that more recently graduated auditors perform better in this training context.\n",
    "- The additive model fits the data well, explaining a large portion of the variability in scores."
   ]
  },
  {
   "cell_type": "markdown",
   "metadata": {},
   "source": [
    "#### 4.d"
   ]
  },
  {
   "cell_type": "code",
   "execution_count": 15,
   "metadata": {},
   "outputs": [
    {
     "name": "stdout",
     "output_type": "stream",
     "text": [
      "Lower bound: 1.6528383237838713, Upper bound: 6.347161676216112\n",
      "Width of the confidence interval: 4.6943233524322405\n"
     ]
    }
   ],
   "source": [
    "# use block and method as categorical variables\n",
    "df = pd.DataFrame(data, columns=[\"Score\", \"Block\", \"Method\"])\n",
    "df[\"Block\"] = df[\"Block\"].astype(\"category\")\n",
    "df[\"Method\"] = df[\"Method\"].astype(\"category\")\n",
    "\n",
    "# fit the model\n",
    "additive_model = ols(\"Score ~ C(Block) + C(Method)\", data=df).fit()\n",
    "\n",
    "# co-efficient for method 2\n",
    "coef_diff = additive_model.params[\"C(Method)[T.2.0]\"]\n",
    "\n",
    "# confidence interval for method 2\n",
    "conf_int = additive_model.conf_int().loc[\"C(Method)[T.2.0]\"]\n",
    "\n",
    "ci_low, ci_high = conf_int\n",
    "width_ci = ci_high - ci_low\n",
    "print(f\"Lower bound: {ci_low}, Upper bound: {ci_high}\")\n",
    "print(f\"Width of the confidence interval: {width_ci}\")"
   ]
  },
  {
   "cell_type": "markdown",
   "metadata": {},
   "source": [
    "The 95% confidence interval for the difference in mean scores between Method 1 and Method 2 is (1.65 - 6.35).\n",
    "\n",
    "Width of CI = 4.69\n",
    "\n",
    "1. This interval suggests that on an average, Method 2 increases the score by 1.65 to 6.35 points in comparison with Method 1.\n",
    "2. Since the entire interval is above 0, Method 2 is likely to be more effective than Method 1 on average."
   ]
  },
  {
   "cell_type": "markdown",
   "metadata": {},
   "source": [
    "#### 4.e"
   ]
  },
  {
   "cell_type": "code",
   "execution_count": 16,
   "metadata": {},
   "outputs": [
    {
     "name": "stdout",
     "output_type": "stream",
     "text": [
      "Lower bound: -0.12526239002410122, Upper bound: 8.12526239002414\n",
      "Width of the confidence interval: 8.250524780048242\n"
     ]
    }
   ],
   "source": [
    "# use block and method as categorical variables\n",
    "df = pd.DataFrame(data, columns=[\"Score\", \"Block\", \"Method\"])\n",
    "df[\"Block\"] = df[\"Block\"].astype(\"category\")\n",
    "df[\"Method\"] = df[\"Method\"].astype(\"category\")\n",
    "\n",
    "# fit the model\n",
    "model_no_block = ols(\"Score ~ C(Method)\", data=df).fit()\n",
    "\n",
    "# co-efficient for method 2\n",
    "coef_diff = model_no_block.params[\"C(Method)[T.2.0]\"]\n",
    "\n",
    "# confidence interval for method 2\n",
    "conf_int = model_no_block.conf_int().loc[\"C(Method)[T.2.0]\"]\n",
    "\n",
    "ci_low, ci_high = conf_int\n",
    "width_ci = ci_high - ci_low\n",
    "print(f\"Lower bound: {ci_low}, Upper bound: {ci_high}\")\n",
    "print(f\"Width of the confidence interval: {width_ci}\")"
   ]
  },
  {
   "cell_type": "markdown",
   "metadata": {},
   "source": [
    "95% Confidence interval for difference between Method 1 and Method 2 when using a model with no blocks: (-0.13 - 8.13)\n",
    "\n",
    "Width of CI = 8.25\n",
    "\n",
    "**Comparison of Confidence Interval Widths:**\n",
    "- With Blocking: (1.65 - 6.35), Width = 4.69.\n",
    "- Without Blocking: (-0.13 - 8.13), Width = 8.25\n",
    "- The CI for difference without a blocking model is significantly higher compared to a model with blocking.\n",
    "- This increased width shows the uncertainty in difference due to the variability due to the time elapsed since graduation.\n",
    "\n",
    "**Interpretation:**\n",
    "1. The increased width in CI shows the uncertainty in the difference between Method 1 and Method 2 when blocking is not considered. This is because of the induced variability due to the time elapsed since graduation.\n",
    "2. The wider interval includes negative values and 0 - indicating that without considering a blocking model, we cannot be confident about the difference between Methods 1 and 2\n",
    "\n",
    "In conclusion, blocking by time since graduation helps us to isolate the effect of training method on the scores, and reduces the uncertainty in the difference between methods."
   ]
  },
  {
   "cell_type": "markdown",
   "metadata": {},
   "source": [
    "#### 4.f"
   ]
  },
  {
   "cell_type": "code",
   "execution_count": 17,
   "metadata": {},
   "outputs": [
    {
     "name": "stdout",
     "output_type": "stream",
     "text": [
      "Lower bound: 0.8365727356876564, Upper bound: 7.163427264312286\n",
      "Width of the confidence interval: 6.326854528624629\n"
     ]
    }
   ],
   "source": [
    "# use block and method as categorical variables\n",
    "df = pd.DataFrame(data, columns=[\"Score\", \"Block\", \"Method\"])\n",
    "df[\"Block\"] = df[\"Block\"].astype(\"category\")\n",
    "df[\"Method\"] = df[\"Method\"].astype(\"category\")\n",
    "\n",
    "# remove method 3\n",
    "df = df[df[\"Method\"] != 3]\n",
    "\n",
    "# fit the model\n",
    "no_method3_model = ols(\"Score ~ C(Block) + C(Method)\", data=df).fit()\n",
    "\n",
    "# co-efficient for method 2\n",
    "coef_diff = no_method3_model.params[\"C(Method)[T.2.0]\"]\n",
    "\n",
    "# confidence interval for method 2\n",
    "conf_int = no_method3_model.conf_int().loc[\"C(Method)[T.2.0]\"]\n",
    "\n",
    "ci_low, ci_high = conf_int\n",
    "width_ci = ci_high - ci_low\n",
    "print(f\"Lower bound: {ci_low}, Upper bound: {ci_high}\")\n",
    "print(f\"Width of the confidence interval: {width_ci}\")"
   ]
  },
  {
   "cell_type": "markdown",
   "metadata": {},
   "source": [
    "95% Confidence interval for difference between Method 1 and Method 2 when using a model without method 3: (0.84, 7.16)\n",
    "\n",
    "Width of CI = 6.33\n",
    "\n",
    "**Comparison of Confidence Interval Widths:**\n",
    "- With method 3: (1.65 - 6.35), Width = 4.69.\n",
    "- Without method 3: (0.84 - 7.16), Width = 6.33\n",
    "- The CI for difference is higher when compared to a model with method 3.\n",
    "\n",
    "**Interpretation:**\n",
    "- The increase in CI width shows greater uncertainty in the estimate of difference between Model 1 and Model 2,\n",
    "- This could be due to reduction in the overall sample size, the reduction in variability that Method 3 might have been contributing to the model.\n",
    "- The results show the importance of considering all relevant data in an analysis, excluding significant portions can impact the precision and reliability of the findings.\n",
    "\n",
    "This comparison shows that inclusion or exclusion of certain levels of a factor can have a significant impact on the results of an analysis. Removing a method with a distinct effect can lead to less precise estimates for the remaining methods."
   ]
  }
 ],
 "metadata": {
  "kernelspec": {
   "display_name": ".venv",
   "language": "python",
   "name": "python3"
  },
  "language_info": {
   "codemirror_mode": {
    "name": "ipython",
    "version": 3
   },
   "file_extension": ".py",
   "mimetype": "text/x-python",
   "name": "python",
   "nbconvert_exporter": "python",
   "pygments_lexer": "ipython3",
   "version": "3.10.11"
  }
 },
 "nbformat": 4,
 "nbformat_minor": 2
}
