{
 "cells": [
  {
   "cell_type": "markdown",
   "metadata": {},
   "source": [
    "### Question 1\n",
    "#### 1.a\n",
    "$Y_{ijk} = \\mu_{ij} + \\epsilon_{ijk}$\n",
    "\n",
    "Where:\n",
    "- $ Y_{ijk} $ is the response variable for the $ i $-th level of factor A, the $ j $-th level of factor B, and the $ k $-th replicate.\n",
    "- $ \\mu_{ij} $ is the mean effect for the combination of the $ i $-th level of factor A and the $ j $-th level of factor B.\n",
    "- $ \\epsilon_{ijk} $ is the random error associated with the $ i $-th level of factor A, the $ j $-th level of factor B, and the $ k $-th replicate\n",
    "\n",
    "**Assumptions:**\n",
    "1. Independence: The observations are independent of each other. This means the data collected for one cell does not influence the data collected for another.\n",
    "2. Normality: The random errors $ \\epsilon_{ijk} $ are normally distributed.\n",
    "3. Homoscedasticity: The variances of the error terms are constant across all levels of the factors.\n",
    "4. Fixed Effects: In this model, both factors are considered to have fixed effects. This means that the levels of each factor are specifically chosen by the experimenter and are of primary interest.\n",
    "5. No Interactions (in the basic model): This assumption means that the effect of one factor is consistent at all levels of the other factor."
   ]
  },
  {
   "cell_type": "markdown",
   "metadata": {},
   "source": [
    "#### 1.b\n",
    "\n",
    "**ANOVA Table:**\n",
    "| Source      | Sum of Squares (SS)                   | Degrees of Freedom (df) |\n",
    "|-------------|--------------------------------------|-------------------------|\n",
    "| Treatment   | SS_Treatment = $n.\\Sigma\\Sigma(\\bar{Y}_{ij.} - \\bar{Y}_{...})^2$   | df_Treatment = ab - 1   |\n",
    "| Error       | SS_Error = $\\Sigma\\Sigma\\Sigma(Y_{ijk} - \\bar{Y}_{ij.})^2$   | df_Error = ab(n - 1)    |\n",
    "| Total       | SS_Total = $\\Sigma\\Sigma\\Sigma(Y_{ijk} - \\bar{Y}_{...})^2$   | df_Total = abn - 1      |\n",
    "\n",
    "Where:\n",
    "- $ Y_{ijk} $ is the observation for the $ i $-th level of factor A, the $ j $-th level of factor B, and the $ k $-th replicate.\n",
    "- $ \\bar{Y}_{ij.} $ is the mean for the $ i $-th level of factor A and the $ j $-th level of factor B.\n",
    "- $ \\bar{Y}_{...} $ is the overall mean of all observations.\n",
    "- $ a $ and $ b $ are the number of levels in Factor A and Factor B, respectively.\n",
    "- $ n $ is the number of replicates per cell (in your case, n = 2).\n",
    "\n",
    "**Null Hypothesis to be tested with this table:**\n",
    "- The null hypothesis is that all cell means are equal, i.e., there are no effects of the factors or their interaction on the dependent variable.\n",
    "$ H_0: \\mu_{ij} = \\mu $ for all $ i $ and $ j $."
   ]
  },
  {
   "cell_type": "markdown",
   "metadata": {},
   "source": [
    "#### 1.c\n",
    "The model can be expressed in matrix form as:  $ Y = X\\mu + \\epsilon $\n",
    "1. **Vector Y (Response Vector)**:\n",
    "   - Y is an 18x1 vector, representing the observations. \n",
    "   - $ Y = [Y_{111}, Y_{112}, Y_{121}, Y_{122}, ..., Y_{331}, Y_{332}]^T$.\n",
    "   - Each observation is $ Y_{ijk}$, where $ i$ and $ j$ represent the levels of factors A and B respectively, and $ k$ is the replicate number.\n",
    "\n",
    "2. **Design Matrix X**:\n",
    "   - X is an 18x9 matrix.\n",
    "   - Each row corresponds to an observation, and each column corresponds to one of the nine cell means.\n",
    "   - Each cell in the matrix is either 0 or 1, indicating whether the observation belongs to the cell mean represented by that column. \n",
    "   - There will be one '1' in the column corresponding to the appropriate cell mean, and '0's elsewhere.\n",
    "\n",
    "3. **Vector of Parameters μ (Mean Effects Vector)**:\n",
    "   - $\\mu$ is a 9x1 vector, representing the mean effect for each of the nine combinations of factor levels.\n",
    "   - $ \\mu = [\\mu_{11}, \\mu_{12}, \\mu_{13}, ..., \\mu_{31}, \\mu_{32}, \\mu_{33}]^T$.\n",
    "   - Each mean is $ \\mu_{ij}$, where $ i$ and $ j$ are the levels of factors A and B.\n",
    "\n",
    "4. **Vector of Errors ε (Error Vector)**:\n",
    "   - ε is an 18x1 vector, representing the error associated with each observation.\n",
    "   - It follows the same ordering as Y."
   ]
  },
  {
   "cell_type": "markdown",
   "metadata": {},
   "source": [
    "#### 1.d\n"
   ]
  }
 ],
 "metadata": {
  "language_info": {
   "name": "python"
  }
 },
 "nbformat": 4,
 "nbformat_minor": 2
}
