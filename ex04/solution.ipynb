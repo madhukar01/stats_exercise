{
 "cells": [
  {
   "cell_type": "code",
   "execution_count": 11,
   "metadata": {},
   "outputs": [],
   "source": [
    "import numpy as np\n",
    "import statsmodels.api as sm\n",
    "from statsmodels.formula.api import ols\n",
    "import pandas as pd\n",
    "import scipy.stats as stats\n",
    "from statsmodels.regression.mixed_linear_model import MixedLM"
   ]
  },
  {
   "cell_type": "markdown",
   "metadata": {},
   "source": [
    "### Question 1"
   ]
  },
  {
   "cell_type": "markdown",
   "metadata": {},
   "source": [
    "**Single Factor Studies - ANOVA Model II**\n",
    "\n",
    "Random Cell Means Model: $Y_{ij} = \\mu_{i} + \\epsilon_{ij}$\n",
    "\n",
    "- $\\mu_i$ are independent $N(\\mu_., \\sigma_\\mu^2)$\n",
    "- $\\epsilon_{ij}$ are independent $N(0, \\sigma^2)$\n",
    "- $\\mu_i$ and $\\epsilon_{ij}$ are independent random variables\n",
    "- $i = 1, 2, \\dots, r$ and $j = 1, 2, \\dots, n$"
   ]
  },
  {
   "cell_type": "code",
   "execution_count": 2,
   "metadata": {},
   "outputs": [],
   "source": [
    "data = np.array([\n",
    "    [24.4, 1, 1],\n",
    "    [22.6, 1, 2],\n",
    "    [23.8, 1, 3],\n",
    "    [22.0, 1, 4],\n",
    "    [24.5, 1, 5],\n",
    "    [22.3, 1, 6],\n",
    "    [25.0, 1, 7],\n",
    "    [24.5, 1, 8],\n",
    "    [10.2, 2, 1],\n",
    "    [12.1, 2, 2],\n",
    "    [10.3, 2, 3],\n",
    "    [10.2, 2, 4],\n",
    "    [9.9, 2, 5],\n",
    "    [11.2, 2, 6],\n",
    "    [12.0, 2, 7],\n",
    "    [9.5, 2, 8],\n",
    "    [19.2, 3, 1],\n",
    "    [19.4, 3, 2],\n",
    "    [19.8, 3, 3],\n",
    "    [19.0, 3, 4],\n",
    "    [19.6, 3, 5],\n",
    "    [18.3, 3, 6],\n",
    "    [20.0, 3, 7],\n",
    "    [19.4, 3, 8],\n",
    "    [17.4, 4, 1],\n",
    "    [18.1, 4, 2],\n",
    "    [16.7, 4, 3],\n",
    "    [18.3, 4, 4],\n",
    "    [17.6, 4, 5],\n",
    "    [17.5, 4, 6],\n",
    "    [18.0, 4, 7],\n",
    "    [16.4, 4, 8],\n",
    "    [13.4, 5, 1],\n",
    "    [15.0, 5, 2],\n",
    "    [14.1, 5, 3],\n",
    "    [13.1, 5, 4],\n",
    "    [14.9, 5, 5],\n",
    "    [15.0, 5, 6],\n",
    "    [13.4, 5, 7],\n",
    "    [14.8, 5, 8],\n",
    "    [21.3, 6, 1],\n",
    "    [20.2, 6, 2],\n",
    "    [20.7, 6, 3],\n",
    "    [20.8, 6, 4],\n",
    "    [20.1, 6, 5],\n",
    "    [18.8, 6, 6],\n",
    "    [21.1, 6, 7],\n",
    "    [20.3, 6, 8],\n",
    "], dtype=np.float32)"
   ]
  },
  {
   "cell_type": "markdown",
   "metadata": {},
   "source": [
    "#### 1.a\n",
    "\n"
   ]
  },
  {
   "cell_type": "markdown",
   "metadata": {},
   "source": [
    "- **Null Hypothesis ($H_0$)**: The mean sodium content is the same across all brands.<br>\n",
    "Variance between the brand means $var(\\sigma_\\mu^2)$ = 0.\n",
    "\n",
    "- **Alternative Hypothesis ($H_1$)**: There is a difference in the mean sodium content among the brands.<br>Variance between the brand means $var(\\sigma_{\\mu}^2) > 0$.\n",
    "\n",
    "**Test Statistic**\n",
    "$$ F = \\frac{\\text{Mean Square Between Groups (MSTR)}}{\\text{Mean Square Within Groups (MSE)}} $$\n",
    "\n",
    "\n",
    "**Decision Rule**\n",
    "- Conclude $H_0$ if $F \\leq F_{1-\\alpha, r-1, r(n-1)}$\n",
    "- Conclude $H_1$ if $F > F_{1-\\alpha, r-1, r(n-1)}$"
   ]
  },
  {
   "cell_type": "code",
   "execution_count": 6,
   "metadata": {},
   "outputs": [
    {
     "name": "stdout",
     "output_type": "stream",
     "text": [
      "              sum_sq    df           F        PR(>F)\n",
      "C(Brand)  854.529147   5.0  238.711145  1.083748e-29\n",
      "Residual   30.070003  42.0         NaN           NaN\n",
      "\n",
      "Calculated F-statistic:  238.71114463850907\n",
      "Critical F-statistic:  3.488234863858266\n",
      "\n",
      "Reject null hypothesis\n"
     ]
    }
   ],
   "source": [
    "# process data into categorical variables\n",
    "df = pd.DataFrame(data, columns=[\"Sodium\", \"Brand\", \"Replicate\"])\n",
    "df[\"Brand\"] = df[\"Brand\"].astype(\"category\")\n",
    "\n",
    "# setup and fit OLS model\n",
    "model = ols(\"Sodium ~ C(Brand)\", data=df).fit()\n",
    "\n",
    "# perform ANOVA decomposition using model 2\n",
    "anova_table = sm.stats.anova_lm(model, typ=2)\n",
    "print(anova_table)\n",
    "print()\n",
    "\n",
    "\n",
    "# Mean Square Between Groups\n",
    "dfB = anova_table.at[\"C(Brand)\", \"df\"]\n",
    "MSTR = anova_table.at[\"C(Brand)\", \"sum_sq\"] / dfB\n",
    "\n",
    "# Mean Square Within Groups\n",
    "dfW = anova_table.at[\"Residual\", \"df\"]\n",
    "MSE = anova_table.at[\"Residual\", \"sum_sq\"] / dfW\n",
    "\n",
    "f_calculated = MSTR / MSE\n",
    "print(\"Calculated F-statistic: \", f_calculated)\n",
    "\n",
    "alpha = 0.01\n",
    "f_critical = stats.f.ppf(1 - alpha, dfB, dfW)\n",
    "print(\"Critical F-statistic: \", f_critical)\n",
    "\n",
    "if f_calculated > f_critical:\n",
    "    print(\"\\nReject null hypothesis\")\n",
    "else:\n",
    "    print(\"\\nFail to reject null hypothesis\")"
   ]
  },
  {
   "cell_type": "markdown",
   "metadata": {},
   "source": [
    "From the result of the analysis above:\n",
    "- F-statistic: 238.71 > 3.48\n",
    "- p-value: $1.08 \\times 10^{-29} < 0.01$ \n",
    "\n",
    "**Conclusion**\n",
    "- We reject $H_0$ and conclude $H_1$.\n",
    "- There is significant evidence to suggest that the mean sodium content is not the same across all brands in the dataset."
   ]
  },
  {
   "cell_type": "markdown",
   "metadata": {},
   "source": [
    "#### 1.b"
   ]
  },
  {
   "cell_type": "code",
   "execution_count": 19,
   "metadata": {},
   "outputs": [
    {
     "name": "stdout",
     "output_type": "stream",
     "text": [
      "Overall mean:  17.629168\n",
      "Standard error:  0.8461397355860263\n",
      "\n",
      "Confidence interval:  (17.29965340518216, 17.95868170834323)\n"
     ]
    }
   ],
   "source": [
    "alpha = 0.01\n",
    "overall_mean = df[\"Sodium\"].mean()\n",
    "n_total = len(df)\n",
    "standard_error = np.sqrt(MSE)\n",
    "\n",
    "# calculate confidence intervals\n",
    "t_value = stats.t.ppf(1 - alpha / 2, dfW)\n",
    "\n",
    "confidence_interval = (\n",
    "    overall_mean - t_value * standard_error / np.sqrt(n_total),\n",
    "    overall_mean + t_value * standard_error / np.sqrt(n_total),\n",
    ")\n",
    "\n",
    "print(\"Overall mean: \", overall_mean)\n",
    "print(\"Standard error: \", standard_error)\n",
    "print()\n",
    "print(\"Confidence interval: \", confidence_interval)"
   ]
  },
  {
   "cell_type": "markdown",
   "metadata": {},
   "source": [
    "Mean Sodium content across all brands are within the interval (17.3 - 17.96)."
   ]
  },
  {
   "cell_type": "markdown",
   "metadata": {},
   "source": [
    "#### 1.c"
   ]
  },
  {
   "cell_type": "code",
   "execution_count": 18,
   "metadata": {},
   "outputs": [
    {
     "name": "stdout",
     "output_type": "stream",
     "text": [
      "Variance proportion:  0.9674414442545144\n"
     ]
    }
   ],
   "source": [
    "# observations per group\n",
    "k = df.groupby(\"Brand\", observed=False).size().min()\n",
    "\n",
    "# variance between group means (sigma^2_mu)\n",
    "numerator = (MSTR - MSE) / k\n",
    "denominator = numerator + MSE\n",
    "\n",
    "variance_proportion = numerator / denominator\n",
    "print(\"Variance proportion: \", variance_proportion)"
   ]
  },
  {
   "cell_type": "markdown",
   "metadata": {},
   "source": [
    "Variance proportion $\\approx 0.967$\n",
    "<br>\n",
    "96.7% of the total variability in the sodium content is due to the variability between the brands."
   ]
  },
  {
   "cell_type": "markdown",
   "metadata": {},
   "source": [
    "#### 1.d"
   ]
  },
  {
   "cell_type": "code",
   "execution_count": 17,
   "metadata": {},
   "outputs": [
    {
     "name": "stdout",
     "output_type": "stream",
     "text": [
      "Estimated variance proportion (ML):  0.9674404956166446\n"
     ]
    }
   ],
   "source": [
    "# fitting the model using Maximum Likelihood Estimation\n",
    "ml_model = MixedLM.from_formula(\"Sodium ~ 1\", groups=\"Brand\", re_formula=\"1\", data=df)\n",
    "ml_result = ml_model.fit(method=\"lbfgs\")\n",
    "\n",
    "# extract variance components\n",
    "ml_var_components = ml_result.cov_re.iloc[0, 0]\n",
    "ml_error = ml_result.scale\n",
    "\n",
    "# calculate variance proportion\n",
    "ml_quantity = ml_var_components / (ml_var_components + ml_error)\n",
    "print(\"Estimated variance proportion (ML): \", ml_quantity)"
   ]
  },
  {
   "cell_type": "code",
   "execution_count": 16,
   "metadata": {},
   "outputs": [
    {
     "name": "stdout",
     "output_type": "stream",
     "text": [
      "Estimated variance proportion (REML):  0.9674404956166446\n"
     ]
    }
   ],
   "source": [
    "# fitting the model using Restricted Maximum Likelihood Estimation\n",
    "df[\"Replicate\"] = df.groupby(\"Brand\", observed=False).cumcount() + 1\n",
    "\n",
    "reml_model = MixedLM.from_formula(\"Sodium ~ 1\", groups=\"Brand\", re_formula=\"1\", data=df)\n",
    "reml_result = reml_model.fit(reml=True, method=\"lbfgs\")\n",
    "\n",
    "# extract variance components\n",
    "reml_var_components = reml_result.cov_re.iloc[0, 0]\n",
    "reml_error = reml_result.scale\n",
    "\n",
    "# calculate variance proportion\n",
    "reml_quantity = reml_var_components / (reml_var_components + reml_error)\n",
    "print(\"Estimated variance proportion (REML): \", reml_quantity)"
   ]
  },
  {
   "cell_type": "markdown",
   "metadata": {},
   "source": [
    "**Results**:\n",
    "- ANOVA: 96.7%\n",
    "- MLE: 96.7%\n",
    "- REML: 96.7%\n",
    "\n",
    "All three methods generated the same result."
   ]
  },
  {
   "cell_type": "markdown",
   "metadata": {},
   "source": [
    "To include the ANOVA results in this comparison, let's recap and compare the findings from the three different methods: ANOVA, Maximum Likelihood (ML), and Restricted Maximum Likelihood (REML). We focused on estimating the quantity \\(\\sigma^2_{\\mu}/(\\sigma^2_{\\mu} + \\sigma^2)\\), which reflects the proportion of total variance attributed to the differences between group means.\n",
    "\n",
    "### Results Comparison\n",
    "1. **ANOVA Method**: Estimated this quantity as approximately 0.967.\n",
    "2. **ML Method**: Also estimated the quantity as approximately 0.967.\n",
    "3. **REML Method**: Yielded the same estimate, approximately 0.967.\n",
    "\n",
    "### Analysis and Preference\n",
    "\n",
    "- **Consistency of Results**: All three methods yielded the same estimate in this case. This consistency suggests that, for your dataset, the specific choice of method might not significantly impact the estimate of the variance components.\n",
    "- **When to Prefer Each Method**:\n",
    "  - **ANOVA**: Best suited for simpler models where the focus is on comparing group means and assuming fixed effects. However, it does not account for the potential bias in estimating variance components, especially in models with a large number of parameters or small sample sizes.\n",
    "  - **ML**: Useful when comparing different fixed-effects models, as it allows for the comparison of likelihoods across models. However, it can be biased in estimating variance components, particularly with smaller sample sizes.\n",
    "  - **REML**: Provides less biased estimates of variance components, especially beneficial for small sample sizes or complex models. It's generally the preferred method for variance component estimation in mixed models.\n",
    "\n",
    "### Conclusion\n",
    "- **In Your Case**: Given that all three methods produced identical results for your dataset, it suggests that your data are robust enough that the potential biases of ML are not a significant factor. In such cases, any of the methods could be suitable.\n",
    "- **General Preference**: In more complex scenarios or with smaller sample sizes, REML is usually preferred due to its reduced bias in estimating variance components. However, if you're interested in comparing models with different fixed effects, ML would be more appropriate.\n",
    "- **Overall**: Considering the nature of most practical applications, where either sample sizes are not exceedingly large, or models tend to be more complex, REML is generally preferred for its accuracy in estimating variance components in mixed models. But for your specific dataset and analysis, any method seems to be equally valid as they all yielded the same result."
   ]
  }
 ],
 "metadata": {
  "kernelspec": {
   "display_name": ".venv",
   "language": "python",
   "name": "python3"
  },
  "language_info": {
   "codemirror_mode": {
    "name": "ipython",
    "version": 3
   },
   "file_extension": ".py",
   "mimetype": "text/x-python",
   "name": "python",
   "nbconvert_exporter": "python",
   "pygments_lexer": "ipython3",
   "version": "3.10.11"
  }
 },
 "nbformat": 4,
 "nbformat_minor": 2
}
