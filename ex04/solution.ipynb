{
 "cells": [
  {
   "cell_type": "code",
   "execution_count": 1,
   "metadata": {},
   "outputs": [],
   "source": [
    "import numpy as np\n",
    "import statsmodels.api as sm\n",
    "from statsmodels.formula.api import ols\n",
    "import pandas as pd\n",
    "import scipy.stats as stats"
   ]
  },
  {
   "cell_type": "markdown",
   "metadata": {},
   "source": [
    "### Question 1"
   ]
  },
  {
   "cell_type": "markdown",
   "metadata": {},
   "source": [
    "**Single Factor Studies - ANOVA Model II**\n",
    "\n",
    "Random Cell Means Model: $Y_{ij} = \\mu_{i} + \\epsilon_{ij}$\n",
    "\n",
    "- $\\mu_i$ are independent $N(\\mu_., \\sigma_\\mu^2)$\n",
    "- $\\epsilon_{ij}$ are independent $N(0, \\sigma^2)$\n",
    "- $\\mu_i$ and $\\epsilon_{ij}$ are independent random variables\n",
    "- $i = 1, 2, \\dots, r$ and $j = 1, 2, \\dots, n$"
   ]
  },
  {
   "cell_type": "code",
   "execution_count": 2,
   "metadata": {},
   "outputs": [],
   "source": [
    "data = np.array([\n",
    "    [24.4, 1, 1],\n",
    "    [22.6, 1, 2],\n",
    "    [23.8, 1, 3],\n",
    "    [22.0, 1, 4],\n",
    "    [24.5, 1, 5],\n",
    "    [22.3, 1, 6],\n",
    "    [25.0, 1, 7],\n",
    "    [24.5, 1, 8],\n",
    "    [10.2, 2, 1],\n",
    "    [12.1, 2, 2],\n",
    "    [10.3, 2, 3],\n",
    "    [10.2, 2, 4],\n",
    "    [9.9, 2, 5],\n",
    "    [11.2, 2, 6],\n",
    "    [12.0, 2, 7],\n",
    "    [9.5, 2, 8],\n",
    "    [19.2, 3, 1],\n",
    "    [19.4, 3, 2],\n",
    "    [19.8, 3, 3],\n",
    "    [19.0, 3, 4],\n",
    "    [19.6, 3, 5],\n",
    "    [18.3, 3, 6],\n",
    "    [20.0, 3, 7],\n",
    "    [19.4, 3, 8],\n",
    "    [17.4, 4, 1],\n",
    "    [18.1, 4, 2],\n",
    "    [16.7, 4, 3],\n",
    "    [18.3, 4, 4],\n",
    "    [17.6, 4, 5],\n",
    "    [17.5, 4, 6],\n",
    "    [18.0, 4, 7],\n",
    "    [16.4, 4, 8],\n",
    "    [13.4, 5, 1],\n",
    "    [15.0, 5, 2],\n",
    "    [14.1, 5, 3],\n",
    "    [13.1, 5, 4],\n",
    "    [14.9, 5, 5],\n",
    "    [15.0, 5, 6],\n",
    "    [13.4, 5, 7],\n",
    "    [14.8, 5, 8],\n",
    "    [21.3, 6, 1],\n",
    "    [20.2, 6, 2],\n",
    "    [20.7, 6, 3],\n",
    "    [20.8, 6, 4],\n",
    "    [20.1, 6, 5],\n",
    "    [18.8, 6, 6],\n",
    "    [21.1, 6, 7],\n",
    "    [20.3, 6, 8],\n",
    "], dtype=np.float32)"
   ]
  },
  {
   "cell_type": "markdown",
   "metadata": {},
   "source": [
    "#### 1.a\n",
    "\n"
   ]
  },
  {
   "cell_type": "markdown",
   "metadata": {},
   "source": [
    "- **Null Hypothesis ($H_0$)**: The mean sodium content is the same across all brands.<br>\n",
    "Variance between the brand means $var(\\sigma_\\mu^2)$ = 0.\n",
    "\n",
    "- **Alternative Hypothesis ($H_1$)**: There is a difference in the mean sodium content among the brands.<br>Variance between the brand means $var(\\sigma_{\\mu}^2) > 0$.\n",
    "\n",
    "**Test Statistic**\n",
    "$$ F = \\frac{\\text{Mean Square Between Groups (MSTR)}}{\\text{Mean Square Within Groups (MSE)}} $$\n",
    "\n",
    "\n",
    "**Decision Rule**\n",
    "- Conclude $H_0$ if $F \\leq F_{1-\\alpha, r-1, r(n-1)}$\n",
    "- Conclude $H_1$ if $F > F_{1-\\alpha, r-1, r(n-1)}$"
   ]
  },
  {
   "cell_type": "code",
   "execution_count": 6,
   "metadata": {},
   "outputs": [
    {
     "name": "stdout",
     "output_type": "stream",
     "text": [
      "              sum_sq    df           F        PR(>F)\n",
      "C(Brand)  854.529147   5.0  238.711145  1.083748e-29\n",
      "Residual   30.070003  42.0         NaN           NaN\n",
      "\n",
      "Calculated F-statistic:  238.71114463850907\n",
      "Critical F-statistic:  3.488234863858266\n",
      "\n",
      "Reject null hypothesis\n"
     ]
    }
   ],
   "source": [
    "# process data into categorical variables\n",
    "df = pd.DataFrame(data, columns=[\"Sodium\", \"Brand\", \"Replicate\"])\n",
    "df[\"Brand\"] = df[\"Brand\"].astype(\"category\")\n",
    "\n",
    "# setup and fit OLS model\n",
    "model = ols(\"Sodium ~ C(Brand)\", data=df).fit()\n",
    "\n",
    "# perform ANOVA decomposition using model 2\n",
    "anova_table = sm.stats.anova_lm(model, typ=2)\n",
    "print(anova_table)\n",
    "print()\n",
    "\n",
    "\n",
    "# Mean Square Between Groups\n",
    "dfB = anova_table.at[\"C(Brand)\", \"df\"]\n",
    "MSTR = anova_table.at[\"C(Brand)\", \"sum_sq\"] / dfB\n",
    "\n",
    "# Mean Square Within Groups\n",
    "dfW = anova_table.at[\"Residual\", \"df\"]\n",
    "MSE = anova_table.at[\"Residual\", \"sum_sq\"] / dfW\n",
    "\n",
    "f_calculated = MSTR / MSE\n",
    "print(\"Calculated F-statistic: \", f_calculated)\n",
    "\n",
    "alpha = 0.01\n",
    "f_critical = stats.f.ppf(1 - alpha, dfB, dfW)\n",
    "print(\"Critical F-statistic: \", f_critical)\n",
    "\n",
    "if f_calculated > f_critical:\n",
    "    print(\"\\nReject null hypothesis\")\n",
    "else:\n",
    "    print(\"\\nFail to reject null hypothesis\")"
   ]
  },
  {
   "cell_type": "markdown",
   "metadata": {},
   "source": [
    "From the result of the analysis above:\n",
    "- F-statistic: 238.71\n",
    "- p-value: approximately $1.08 \\times 10^{-29}$\n",
    "\n",
    "**Conclusion**\n",
    "- p-value is much lower $\\alpha = 0.01$, we reject the null hypothesis.\n",
    "- There is significant evidence to suggest that the mean sodium content is not the same across all brands in the dataset."
   ]
  }
 ],
 "metadata": {
  "kernelspec": {
   "display_name": ".venv",
   "language": "python",
   "name": "python3"
  },
  "language_info": {
   "codemirror_mode": {
    "name": "ipython",
    "version": 3
   },
   "file_extension": ".py",
   "mimetype": "text/x-python",
   "name": "python",
   "nbconvert_exporter": "python",
   "pygments_lexer": "ipython3",
   "version": "3.10.11"
  }
 },
 "nbformat": 4,
 "nbformat_minor": 2
}
